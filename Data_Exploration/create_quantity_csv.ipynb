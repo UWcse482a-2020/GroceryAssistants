{
 "cells": [
  {
   "cell_type": "markdown",
   "metadata": {
    "Collapsed": "false"
   },
   "source": [
    "# Create database for quantity estimation"
   ]
  },
  {
   "cell_type": "code",
   "execution_count": 2,
   "metadata": {
    "Collapsed": "false"
   },
   "outputs": [],
   "source": [
    "import pandas as pd"
   ]
  },
  {
   "cell_type": "code",
   "execution_count": 3,
   "metadata": {
    "Collapsed": "false"
   },
   "outputs": [],
   "source": [
    "df = pd.read_csv(\"../data/wic_database_cleaned.csv\")"
   ]
  },
  {
   "cell_type": "code",
   "execution_count": 4,
   "metadata": {
    "Collapsed": "false"
   },
   "outputs": [],
   "source": [
    "df = df.set_index(\"UPC/PLU\")"
   ]
  },
  {
   "cell_type": "code",
   "execution_count": 48,
   "metadata": {
    "Collapsed": "false"
   },
   "outputs": [],
   "source": [
    "ind = list(df.index)\n",
    "cat = list(df.Category)\n",
    "subcat = list(df.Subcategory)\n",
    "desc = list(df.Description)\n",
    "size = list(df.Size)\n",
    "unit = list(df.Unit)"
   ]
  },
  {
   "cell_type": "code",
   "execution_count": 49,
   "metadata": {
    "Collapsed": "false"
   },
   "outputs": [],
   "source": [
    "# location store info database\n",
    "store_df = pd.read_csv(\"../data/stores.csv\")"
   ]
  },
  {
   "cell_type": "code",
   "execution_count": 8,
   "metadata": {
    "Collapsed": "false"
   },
   "outputs": [
    {
     "data": {
      "text/html": [
       "<div>\n",
       "<style scoped>\n",
       "    .dataframe tbody tr th:only-of-type {\n",
       "        vertical-align: middle;\n",
       "    }\n",
       "\n",
       "    .dataframe tbody tr th {\n",
       "        vertical-align: top;\n",
       "    }\n",
       "\n",
       "    .dataframe thead th {\n",
       "        text-align: right;\n",
       "    }\n",
       "</style>\n",
       "<table border=\"1\" class=\"dataframe\">\n",
       "  <thead>\n",
       "    <tr style=\"text-align: right;\">\n",
       "      <th></th>\n",
       "      <th>Store</th>\n",
       "      <th>Location</th>\n",
       "    </tr>\n",
       "  </thead>\n",
       "  <tbody>\n",
       "    <tr>\n",
       "      <th>0</th>\n",
       "      <td>Albertsons #2410</td>\n",
       "      <td>https://www.google.com/maps/place/13050 Aurora...</td>\n",
       "    </tr>\n",
       "    <tr>\n",
       "      <th>1</th>\n",
       "      <td>Albertsons #3408</td>\n",
       "      <td>https://www.google.com/maps/place/2550 32nd Av...</td>\n",
       "    </tr>\n",
       "    <tr>\n",
       "      <th>2</th>\n",
       "      <td>Boulevard Park Thriftway</td>\n",
       "      <td>https://www.google.com/maps/place/12000 Des Mo...</td>\n",
       "    </tr>\n",
       "    <tr>\n",
       "      <th>3</th>\n",
       "      <td>Dominic's Red Apple</td>\n",
       "      <td>https://www.google.com/maps/place/9627 Des Moi...</td>\n",
       "    </tr>\n",
       "    <tr>\n",
       "      <th>4</th>\n",
       "      <td>Fred Meyer #122 - Greenwood</td>\n",
       "      <td>https://www.google.com/maps/place/100 NW 85th ...</td>\n",
       "    </tr>\n",
       "  </tbody>\n",
       "</table>\n",
       "</div>"
      ],
      "text/plain": [
       "                         Store  \\\n",
       "0             Albertsons #2410   \n",
       "1             Albertsons #3408   \n",
       "2     Boulevard Park Thriftway   \n",
       "3          Dominic's Red Apple   \n",
       "4  Fred Meyer #122 - Greenwood   \n",
       "\n",
       "                                            Location  \n",
       "0  https://www.google.com/maps/place/13050 Aurora...  \n",
       "1  https://www.google.com/maps/place/2550 32nd Av...  \n",
       "2  https://www.google.com/maps/place/12000 Des Mo...  \n",
       "3  https://www.google.com/maps/place/9627 Des Moi...  \n",
       "4  https://www.google.com/maps/place/100 NW 85th ...  "
      ]
     },
     "execution_count": 8,
     "metadata": {},
     "output_type": "execute_result"
    }
   ],
   "source": [
    "store_df.head()"
   ]
  },
  {
   "cell_type": "code",
   "execution_count": 9,
   "metadata": {
    "Collapsed": "false"
   },
   "outputs": [],
   "source": [
    "store = list(store_df.Store)\n",
    "loc = list(store_df.Location)"
   ]
  },
  {
   "cell_type": "code",
   "execution_count": 33,
   "metadata": {},
   "outputs": [
    {
     "name": "stderr",
     "output_type": "stream",
     "text": [
      "/Users/lpjiang/.miniconda3/envs/482a/lib/python3.7/site-packages/ipykernel_launcher.py:5: DeprecationWarning: Using Nominatim with the default \"geopy/1.22.0\" `user_agent` is strongly discouraged, as it violates Nominatim's ToS https://operations.osmfoundation.org/policies/nominatim/ and may possibly cause 403 and 429 HTTP errors. Please specify a custom `user_agent` with `Nominatim(user_agent=\"my-application\")` or by overriding the default `user_agent`: `geopy.geocoders.options.default_user_agent = \"my-application\"`. In geopy 2.0 this will become an exception.\n",
      "  \"\"\"\n"
     ]
    }
   ],
   "source": [
    "from  geopy.geocoders import Nominatim\n",
    "\n",
    "new_store = []\n",
    "new_loc = []\n",
    "geolocator = Nominatim()\n",
    "lat = []\n",
    "lng = []\n",
    "for s, l in zip(store, loc):\n",
    "    address = l.lstrip(\"https://www.google.com/maps/place/\").rstrip(\"/\")\n",
    "    info = geolocator.geocode(address)\n",
    "    if info is not None:\n",
    "        new_store.append(s)\n",
    "        new_loc.append(l)\n",
    "        lat.append(info.latitude)\n",
    "        lng.append(info.longitude)"
   ]
  },
  {
   "cell_type": "code",
   "execution_count": 34,
   "metadata": {},
   "outputs": [
    {
     "data": {
      "text/plain": [
       "40"
      ]
     },
     "execution_count": 34,
     "metadata": {},
     "output_type": "execute_result"
    }
   ],
   "source": [
    "len(new_store)"
   ]
  },
  {
   "cell_type": "code",
   "execution_count": 50,
   "metadata": {
    "Collapsed": "false"
   },
   "outputs": [],
   "source": [
    "inds = []\n",
    "cats = []\n",
    "subcats = []\n",
    "descs = []\n",
    "sizes = []\n",
    "units = []\n",
    "stores = []\n",
    "locations = []\n",
    "lats = []\n",
    "lngs = []\n",
    "quantity = []\n",
    "last_updated = []"
   ]
  },
  {
   "cell_type": "code",
   "execution_count": 42,
   "metadata": {},
   "outputs": [],
   "source": [
    "import random"
   ]
  },
  {
   "cell_type": "code",
   "execution_count": 51,
   "metadata": {
    "Collapsed": "false"
   },
   "outputs": [],
   "source": [
    "for i, c, subc, d, ss, unis in zip(ind, cat, subcat, desc, size, unit):\n",
    "    for s, l, lt, lg in zip(new_store, loc, lat, lng):\n",
    "        inds.append(i)\n",
    "        cats.append(c)\n",
    "        subcats.append(subc)\n",
    "        descs.append(d)\n",
    "        sizes.append(ss)\n",
    "        units.append(unis)\n",
    "        stores.append(s)\n",
    "        locations.append(l)\n",
    "        lats.append(lt)\n",
    "        lngs.append(lg)\n",
    "        quantity.append(random.randint(1, 30))\n",
    "        last_updated.append(\"None\")"
   ]
  },
  {
   "cell_type": "markdown",
   "metadata": {
    "Collapsed": "false"
   },
   "source": [
    "## Quantity database"
   ]
  },
  {
   "cell_type": "code",
   "execution_count": 52,
   "metadata": {
    "Collapsed": "false"
   },
   "outputs": [],
   "source": [
    "quant = {\"UPC_PLU\":inds, \"Category\": cats, \"Subcategory\": subcats, \"Description\": descs, \"Size\": sizes, \"Unit\": units, \"Store\": stores, \"Location\": locations, \"Latitude\": lats, \"Longitude\": lngs, \"Quantity\": quantity, \"Last_Updated\": last_updated}"
   ]
  },
  {
   "cell_type": "code",
   "execution_count": 53,
   "metadata": {
    "Collapsed": "false"
   },
   "outputs": [],
   "source": [
    "quant_df = pd.DataFrame(data=quant)"
   ]
  },
  {
   "cell_type": "code",
   "execution_count": 54,
   "metadata": {},
   "outputs": [
    {
     "data": {
      "text/html": [
       "<div>\n",
       "<style scoped>\n",
       "    .dataframe tbody tr th:only-of-type {\n",
       "        vertical-align: middle;\n",
       "    }\n",
       "\n",
       "    .dataframe tbody tr th {\n",
       "        vertical-align: top;\n",
       "    }\n",
       "\n",
       "    .dataframe thead th {\n",
       "        text-align: right;\n",
       "    }\n",
       "</style>\n",
       "<table border=\"1\" class=\"dataframe\">\n",
       "  <thead>\n",
       "    <tr style=\"text-align: right;\">\n",
       "      <th></th>\n",
       "      <th>UPC_PLU</th>\n",
       "      <th>Category</th>\n",
       "      <th>Subcategory</th>\n",
       "      <th>Description</th>\n",
       "      <th>Size</th>\n",
       "      <th>Unit</th>\n",
       "      <th>Store</th>\n",
       "      <th>Location</th>\n",
       "      <th>Latitude</th>\n",
       "      <th>Longitude</th>\n",
       "      <th>Quantity</th>\n",
       "      <th>Last_Updated</th>\n",
       "    </tr>\n",
       "  </thead>\n",
       "  <tbody>\n",
       "    <tr>\n",
       "      <th>0</th>\n",
       "      <td>72220110616</td>\n",
       "      <td>Bread/Whole Grains</td>\n",
       "      <td>Bread - 100% Whole Wheat</td>\n",
       "      <td>Abiqua Farms 100% Whole Wheat Bread 24 oz</td>\n",
       "      <td>24.0</td>\n",
       "      <td>OZ</td>\n",
       "      <td>Albertsons #2410</td>\n",
       "      <td>https://www.google.com/maps/place/13050 Aurora...</td>\n",
       "      <td>47.723864</td>\n",
       "      <td>-122.343042</td>\n",
       "      <td>30</td>\n",
       "      <td>None</td>\n",
       "    </tr>\n",
       "    <tr>\n",
       "      <th>1</th>\n",
       "      <td>72220110616</td>\n",
       "      <td>Bread/Whole Grains</td>\n",
       "      <td>Bread - 100% Whole Wheat</td>\n",
       "      <td>Abiqua Farms 100% Whole Wheat Bread 24 oz</td>\n",
       "      <td>24.0</td>\n",
       "      <td>OZ</td>\n",
       "      <td>Albertsons #3408</td>\n",
       "      <td>https://www.google.com/maps/place/2550 32nd Av...</td>\n",
       "      <td>47.642463</td>\n",
       "      <td>-122.397879</td>\n",
       "      <td>23</td>\n",
       "      <td>None</td>\n",
       "    </tr>\n",
       "    <tr>\n",
       "      <th>2</th>\n",
       "      <td>72220110616</td>\n",
       "      <td>Bread/Whole Grains</td>\n",
       "      <td>Bread - 100% Whole Wheat</td>\n",
       "      <td>Abiqua Farms 100% Whole Wheat Bread 24 oz</td>\n",
       "      <td>24.0</td>\n",
       "      <td>OZ</td>\n",
       "      <td>Fred Meyer #122 - Greenwood</td>\n",
       "      <td>https://www.google.com/maps/place/12000 Des Mo...</td>\n",
       "      <td>47.691897</td>\n",
       "      <td>-122.358848</td>\n",
       "      <td>23</td>\n",
       "      <td>None</td>\n",
       "    </tr>\n",
       "    <tr>\n",
       "      <th>3</th>\n",
       "      <td>72220110616</td>\n",
       "      <td>Bread/Whole Grains</td>\n",
       "      <td>Bread - 100% Whole Wheat</td>\n",
       "      <td>Abiqua Farms 100% Whole Wheat Bread 24 oz</td>\n",
       "      <td>24.0</td>\n",
       "      <td>OZ</td>\n",
       "      <td>Fred Meyer #179 - Lake City</td>\n",
       "      <td>https://www.google.com/maps/place/9627 Des Moi...</td>\n",
       "      <td>47.723711</td>\n",
       "      <td>-122.291100</td>\n",
       "      <td>22</td>\n",
       "      <td>None</td>\n",
       "    </tr>\n",
       "    <tr>\n",
       "      <th>4</th>\n",
       "      <td>72220110616</td>\n",
       "      <td>Bread/Whole Grains</td>\n",
       "      <td>Bread - 100% Whole Wheat</td>\n",
       "      <td>Abiqua Farms 100% Whole Wheat Bread 24 oz</td>\n",
       "      <td>24.0</td>\n",
       "      <td>OZ</td>\n",
       "      <td>Hilltop Red Apple Market</td>\n",
       "      <td>https://www.google.com/maps/place/100 NW 85th ...</td>\n",
       "      <td>47.579053</td>\n",
       "      <td>-122.312918</td>\n",
       "      <td>3</td>\n",
       "      <td>None</td>\n",
       "    </tr>\n",
       "  </tbody>\n",
       "</table>\n",
       "</div>"
      ],
      "text/plain": [
       "       UPC_PLU            Category               Subcategory  \\\n",
       "0  72220110616  Bread/Whole Grains  Bread - 100% Whole Wheat   \n",
       "1  72220110616  Bread/Whole Grains  Bread - 100% Whole Wheat   \n",
       "2  72220110616  Bread/Whole Grains  Bread - 100% Whole Wheat   \n",
       "3  72220110616  Bread/Whole Grains  Bread - 100% Whole Wheat   \n",
       "4  72220110616  Bread/Whole Grains  Bread - 100% Whole Wheat   \n",
       "\n",
       "                                 Description  Size Unit  \\\n",
       "0  Abiqua Farms 100% Whole Wheat Bread 24 oz  24.0   OZ   \n",
       "1  Abiqua Farms 100% Whole Wheat Bread 24 oz  24.0   OZ   \n",
       "2  Abiqua Farms 100% Whole Wheat Bread 24 oz  24.0   OZ   \n",
       "3  Abiqua Farms 100% Whole Wheat Bread 24 oz  24.0   OZ   \n",
       "4  Abiqua Farms 100% Whole Wheat Bread 24 oz  24.0   OZ   \n",
       "\n",
       "                         Store  \\\n",
       "0             Albertsons #2410   \n",
       "1             Albertsons #3408   \n",
       "2  Fred Meyer #122 - Greenwood   \n",
       "3  Fred Meyer #179 - Lake City   \n",
       "4     Hilltop Red Apple Market   \n",
       "\n",
       "                                            Location   Latitude   Longitude  \\\n",
       "0  https://www.google.com/maps/place/13050 Aurora...  47.723864 -122.343042   \n",
       "1  https://www.google.com/maps/place/2550 32nd Av...  47.642463 -122.397879   \n",
       "2  https://www.google.com/maps/place/12000 Des Mo...  47.691897 -122.358848   \n",
       "3  https://www.google.com/maps/place/9627 Des Moi...  47.723711 -122.291100   \n",
       "4  https://www.google.com/maps/place/100 NW 85th ...  47.579053 -122.312918   \n",
       "\n",
       "   Quantity Last_Updated  \n",
       "0        30         None  \n",
       "1        23         None  \n",
       "2        23         None  \n",
       "3        22         None  \n",
       "4         3         None  "
      ]
     },
     "execution_count": 54,
     "metadata": {},
     "output_type": "execute_result"
    }
   ],
   "source": [
    "quant_df.head()"
   ]
  },
  {
   "cell_type": "code",
   "execution_count": 55,
   "metadata": {
    "Collapsed": "false"
   },
   "outputs": [],
   "source": [
    "quant_df.to_csv(\"../data/quantities.csv\", index=False)"
   ]
  },
  {
   "cell_type": "code",
   "execution_count": 56,
   "metadata": {
    "Collapsed": "false"
   },
   "outputs": [],
   "source": [
    "quant_df.to_json(\"../data/quantities.json\", orient=\"table\", index=False)"
   ]
  },
  {
   "cell_type": "code",
   "execution_count": null,
   "metadata": {
    "Collapsed": "false"
   },
   "outputs": [],
   "source": []
  }
 ],
 "metadata": {
  "kernelspec": {
   "display_name": "Python 3",
   "language": "python",
   "name": "python3"
  },
  "language_info": {
   "codemirror_mode": {
    "name": "ipython",
    "version": 3
   },
   "file_extension": ".py",
   "mimetype": "text/x-python",
   "name": "python",
   "nbconvert_exporter": "python",
   "pygments_lexer": "ipython3",
   "version": "3.7.7"
  }
 },
 "nbformat": 4,
 "nbformat_minor": 4
}
