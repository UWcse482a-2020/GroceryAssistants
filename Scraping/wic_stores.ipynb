{
 "cells": [
  {
   "cell_type": "markdown",
   "metadata": {
    "Collapsed": "false"
   },
   "source": [
    "# Scrape WIC store info"
   ]
  },
  {
   "cell_type": "code",
   "execution_count": 2,
   "metadata": {
    "Collapsed": "false"
   },
   "outputs": [],
   "source": [
    "import requests\n",
    "from bs4 import BeautifulSoup"
   ]
  },
  {
   "cell_type": "markdown",
   "metadata": {
    "Collapsed": "false"
   },
   "source": [
    "## Seattle"
   ]
  },
  {
   "cell_type": "code",
   "execution_count": 18,
   "metadata": {
    "Collapsed": "false"
   },
   "outputs": [],
   "source": [
    "URL = \"https://www.wicstorelocator.com/ci/wa-seattle\"\n",
    "page = requests.get(URL)"
   ]
  },
  {
   "cell_type": "code",
   "execution_count": 5,
   "metadata": {
    "Collapsed": "false"
   },
   "outputs": [],
   "source": [
    "soup = BeautifulSoup(page.content, 'html.parser')"
   ]
  },
  {
   "cell_type": "code",
   "execution_count": null,
   "metadata": {
    "Collapsed": "false"
   },
   "outputs": [],
   "source": [
    "soup"
   ]
  },
  {
   "cell_type": "code",
   "execution_count": 16,
   "metadata": {
    "Collapsed": "false"
   },
   "outputs": [
    {
     "data": {
      "text/plain": [
       "[<a href=\"https://www.google.com/maps/place/13050 Aurora Avenue N., Seattle, WA /\" target=\"_blank\">See On Map</a>,\n",
       " <a href=\"https://www.google.com/maps/place/2550 32nd Ave. W, Seattle, WA /\" target=\"_blank\">See On Map</a>,\n",
       " <a href=\"https://www.google.com/maps/place/12000 Des Moines Dr.. S., Seattle, WA /\" target=\"_blank\">See On Map</a>,\n",
       " <a href=\"https://www.google.com/maps/place/9627 Des Moines Mem. Dr. S., Seattle, WA /\" target=\"_blank\">See On Map</a>,\n",
       " <a href=\"https://www.google.com/maps/place/100 NW 85th St., Seattle, WA /\" target=\"_blank\">See On Map</a>,\n",
       " <a href=\"https://www.google.com/maps/place/13000 Lake City Way NE, Seattle, WA /\" target=\"_blank\">See On Map</a>,\n",
       " <a href=\"https://www.google.com/maps/place/915 N.W. 45th Street, Seattle, WA /\" target=\"_blank\">See On Map</a>,\n",
       " <a href=\"https://www.google.com/maps/place/2701 Beacon Ave. S., Seattle, WA /\" target=\"_blank\">See On Map</a>,\n",
       " <a href=\"https://www.google.com/maps/place/10008 Aurora Ave North, Seattle, WA /\" target=\"_blank\">See On Map</a>,\n",
       " <a href=\"https://www.google.com/maps/place/1419 Third Avenue-Lower Level, Seattle, WA /\" target=\"_blank\">See On Map</a>,\n",
       " <a href=\"https://www.google.com/maps/place/4419 S. Brandon St., Seattle, WA /\" target=\"_blank\">See On Map</a>,\n",
       " <a href=\"https://www.google.com/maps/place/6727 MLK Jr Way S  #B, Seattle, WA /\" target=\"_blank\">See On Map</a>,\n",
       " <a href=\"https://www.google.com/maps/place/416 15th Ave. E, Seattle, WA /\" target=\"_blank\">See On Map</a>,\n",
       " <a href=\"https://www.google.com/maps/place/17847 1st Ave. S, Seattle, WA /\" target=\"_blank\">See On Map</a>,\n",
       " <a href=\"https://www.google.com/maps/place/2746 NE 45th St., Seattle, WA /\" target=\"_blank\">See On Map</a>,\n",
       " <a href=\"https://www.google.com/maps/place/1600 West Dravus, Seattle, WA /\" target=\"_blank\">See On Map</a>,\n",
       " <a href=\"https://www.google.com/maps/place/F, Seattle, WA /\" target=\"_blank\">See On Map</a>,\n",
       " <a href=\"https://www.google.com/maps/place/2500 SW Barton  Ste B-1, Seattle, WA /\" target=\"_blank\">See On Map</a>,\n",
       " <a href=\"https://www.google.com/maps/place/1401 Broadway Ave, Seattle, WA /\" target=\"_blank\">See On Map</a>,\n",
       " <a href=\"https://www.google.com/maps/place/2707 Rainier Ave S, Seattle, WA /\" target=\"_blank\">See On Map</a>,\n",
       " <a href=\"https://www.google.com/maps/place/1531 NE 145th Street, Seattle, WA /\" target=\"_blank\">See On Map</a>,\n",
       " <a href=\"https://www.google.com/maps/place/11100 Roosevelt Way NE, Seattle, WA /\" target=\"_blank\">See On Map</a>,\n",
       " <a href=\"https://www.google.com/maps/place/1801 N 45th Street, Seattle, WA /\" target=\"_blank\">See On Map</a>,\n",
       " <a href=\"https://www.google.com/maps/place/9999 Holman Rd NW, Seattle, WA /\" target=\"_blank\">See On Map</a>,\n",
       " <a href=\"https://www.google.com/maps/place/8400 35th Avenue NE, Seattle, WA /\" target=\"_blank\">See On Map</a>,\n",
       " <a href=\"https://www.google.com/maps/place/500 Mercer Street  C-10, Seattle, WA /\" target=\"_blank\">See On Map</a>,\n",
       " <a href=\"https://www.google.com/maps/place/4550 42nd Avenue SW, Seattle, WA /\" target=\"_blank\">See On Map</a>,\n",
       " <a href=\"https://www.google.com/maps/place/417 Broadway Ave. E  Box #2, Seattle, WA /\" target=\"_blank\">See On Map</a>,\n",
       " <a href=\"https://www.google.com/maps/place/10616 16th Ave SW, Seattle, WA /\" target=\"_blank\">See On Map</a>,\n",
       " <a href=\"https://www.google.com/maps/place/4754 42nd Ave. SW, Seattle, WA /\" target=\"_blank\">See On Map</a>,\n",
       " <a href=\"https://www.google.com/maps/place/8340 15th Ave NW, Seattle, WA /\" target=\"_blank\">See On Map</a>,\n",
       " <a href=\"https://www.google.com/maps/place/1423 NW Market St., Seattle, WA /\" target=\"_blank\">See On Map</a>,\n",
       " <a href=\"https://www.google.com/maps/place/3820 Rainier Ave South, Seattle, WA /\" target=\"_blank\">See On Map</a>,\n",
       " <a href=\"https://www.google.com/maps/place/7300 Roosevelt Way NE, Seattle, WA /\" target=\"_blank\">See On Map</a>,\n",
       " <a href=\"https://www.google.com/maps/place/1410 E. John St., Seattle, WA /\" target=\"_blank\">See On Map</a>,\n",
       " <a href=\"https://www.google.com/maps/place/12318 15th Ave NE, Seattle, WA /\" target=\"_blank\">See On Map</a>,\n",
       " <a href=\"https://www.google.com/maps/place/8704 Greenwood Ave. N., Seattle, WA /\" target=\"_blank\">See On Map</a>,\n",
       " <a href=\"https://www.google.com/maps/place/516 First  Ave. W, Seattle, WA /\" target=\"_blank\">See On Map</a>,\n",
       " <a href=\"https://www.google.com/maps/place/9620 28th Ave. SW, Seattle, WA /\" target=\"_blank\">See On Map</a>,\n",
       " <a href=\"https://www.google.com/maps/place/9262 Rainier Ave S, Seattle, WA /\" target=\"_blank\">See On Map</a>,\n",
       " <a href=\"https://www.google.com/maps/place/2201 East Madison, Seattle, WA /\" target=\"_blank\">See On Map</a>,\n",
       " <a href=\"https://www.google.com/maps/place/3900 S. Othello, Seattle, WA /\" target=\"_blank\">See On Map</a>,\n",
       " <a href=\"https://www.google.com/maps/place/2622 California Avenue SW, Seattle, WA /\" target=\"_blank\">See On Map</a>,\n",
       " <a href=\"https://www.google.com/maps/place/4732 Brooklyn NE, Seattle, WA /\" target=\"_blank\">See On Map</a>,\n",
       " <a href=\"https://www.google.com/maps/place/2100 Queen Anne Ave. N., Seattle, WA /\" target=\"_blank\">See On Map</a>,\n",
       " <a href=\"https://www.google.com/maps/place/7340 35th NE, Seattle, WA /\" target=\"_blank\">See On Map</a>,\n",
       " <a href=\"https://www.google.com/maps/place/3020 NE 45th St, Seattle, WA /\" target=\"_blank\">See On Map</a>,\n",
       " <a href=\"https://www.google.com/maps/place/2800 SW Barton St, Seattle, WA /\" target=\"_blank\">See On Map</a>,\n",
       " <a href=\"https://www.google.com/maps/place/1401 2nd Ave, Seattle, WA /\" target=\"_blank\">See On Map</a>,\n",
       " <a href=\"https://www.google.com/maps/place/4201 SW Morgan St., Seattle, WA /\" target=\"_blank\">See On Map</a>]"
      ]
     },
     "execution_count": 16,
     "metadata": {},
     "output_type": "execute_result"
    }
   ],
   "source": [
    "soup.find_all(\"a\", href=True, alt=False, target=\"_blank\")"
   ]
  },
  {
   "cell_type": "code",
   "execution_count": 9,
   "metadata": {
    "Collapsed": "false"
   },
   "outputs": [
    {
     "data": {
      "text/plain": [
       "[<h3>FDA Regulations</h3>,\n",
       " <h3>Maximum Allowances</h3>,\n",
       " <h3>WIC Store Locations in Seattle, Washington </h3>,\n",
       " <h3>Albertsons #2410</h3>,\n",
       " <h3>Albertsons #3408</h3>,\n",
       " <h3>Boulevard Park Thriftway</h3>,\n",
       " <h3>Dominic's Red Apple</h3>,\n",
       " <h3>Fred Meyer #122 - Greenwood</h3>,\n",
       " <h3>Fred Meyer #179 - Lake City</h3>,\n",
       " <h3>Fred Meyer #608 - Ballard</h3>,\n",
       " <h3>Hilltop Red Apple Market</h3>,\n",
       " <h3>HT Oaktree Market</h3>,\n",
       " <h3>Kress IGA</h3>,\n",
       " <h3>Maka Mini Market</h3>,\n",
       " <h3>Moga Mini Market</h3>,\n",
       " <h3>QFC #804 - Capitol Hill</h3>,\n",
       " <h3>QFC #805 - Manhattan Village</h3>,\n",
       " <h3>QFC #807 - University Village</h3>,\n",
       " <h3>QFC #811 - Interbay</h3>,\n",
       " <h3>QFC #816 - Richmond Beach</h3>,\n",
       " <h3>QFC #825 - Westwood Village</h3>,\n",
       " <h3>QFC #847 - Harvard Market</h3>,\n",
       " <h3>QFC #849- Rainier Ave</h3>,\n",
       " <h3>QFC #858 - North Seattle</h3>,\n",
       " <h3>QFC #866 - Northgate</h3>,\n",
       " <h3>QFC #869 - Wallingford</h3>,\n",
       " <h3>QFC #872 - Holman Rd</h3>,\n",
       " <h3>QFC #873 - Wedgewood</h3>,\n",
       " <h3>QFC #881 - Mercer Street</h3>,\n",
       " <h3>QFC #883 - West Seattle</h3>,\n",
       " <h3>QFC #887 - Broadway East</h3>,\n",
       " <h3>Saar's Super Saver Foods</h3>,\n",
       " <h3>Safeway #1062 - Jefferson Square</h3>,\n",
       " <h3>Safeway #1143 - Crown Hill</h3>,\n",
       " <h3>Safeway #1477 - Ballard</h3>,\n",
       " <h3>Safeway #1508 - Rainier Valley</h3>,\n",
       " <h3>Safeway #1550 - Roosevelt</h3>,\n",
       " <h3>Safeway #1551 - Capitol Hill</h3>,\n",
       " <h3>Safeway #1586 - Pinehurst</h3>,\n",
       " <h3>Safeway #1845</h3>,\n",
       " <h3>Safeway #1885 - Lower Queen Anne</h3>,\n",
       " <h3>Safeway #1923 - Roxbury</h3>,\n",
       " <h3>Safeway #1965 - Rainier Beach</h3>,\n",
       " <h3>Safeway #1993</h3>,\n",
       " <h3>Safeway #219 - Holly Park</h3>,\n",
       " <h3>Safeway #2932</h3>,\n",
       " <h3>Safeway #3091 - University</h3>,\n",
       " <h3>Safeway #368 - Upper Queen Anne</h3>,\n",
       " <h3>Safeway #423 - Wedgewood</h3>,\n",
       " <h3>Safeway #488 - University Village</h3>,\n",
       " <h3>Target Store T-0637</h3>,\n",
       " <h3>Target Store T-2786</h3>,\n",
       " <h3>West Seattle Thriftway #603</h3>,\n",
       " <h3>Washington Cities</h3>]"
      ]
     },
     "execution_count": 9,
     "metadata": {},
     "output_type": "execute_result"
    }
   ],
   "source": [
    "soup.find_all(\"h3\")"
   ]
  },
  {
   "cell_type": "markdown",
   "metadata": {
    "Collapsed": "false"
   },
   "source": [
    "## Whole List"
   ]
  },
  {
   "cell_type": "code",
   "execution_count": 19,
   "metadata": {
    "Collapsed": "false"
   },
   "outputs": [],
   "source": [
    "URL = \"https://www.wicstorelocator.com/st/washington\"\n",
    "page = requests.get(URL)"
   ]
  },
  {
   "cell_type": "code",
   "execution_count": 21,
   "metadata": {
    "Collapsed": "false"
   },
   "outputs": [],
   "source": [
    "whole_list = BeautifulSoup(page.content, 'html.parser')"
   ]
  },
  {
   "cell_type": "code",
   "execution_count": 25,
   "metadata": {
    "Collapsed": "false"
   },
   "outputs": [
    {
     "data": {
      "text/plain": [
       "[<a class=\"social-icon sb-icon-rss\" href=\"https://www.wicstorelocator.com/feed/\"></a>,\n",
       " <a class=\"ie6fix\" href=\"https://www.wicstorelocator.com\">WIC Store Locator</a>,\n",
       " <a href=\"https://www.wicstorelocator.com\">Home</a>,\n",
       " <a href=\"https://www.wicstorelocator.com/ar/about\">About Us</a>,\n",
       " <a href=\"https://www.wicstorelocator.com\">Home</a>,\n",
       " <a href=\"https://www.wicstorelocator.com/ci/wa-aberdeen\">Aberdeen</a>,\n",
       " <a href=\"https://www.wicstorelocator.com/ci/wa-airway_heights\">Airway Heights</a>,\n",
       " <a href=\"https://www.wicstorelocator.com/ci/wa-amanda_park\">Amanda Park</a>,\n",
       " <a href=\"https://www.wicstorelocator.com/ci/wa-amboy\">Amboy</a>,\n",
       " <a href=\"https://www.wicstorelocator.com/ci/wa-anacortes\">Anacortes</a>,\n",
       " <a href=\"https://www.wicstorelocator.com/ci/wa-arlington\">Arlington</a>,\n",
       " <a href=\"https://www.wicstorelocator.com/ci/wa-auburn\">Auburn</a>,\n",
       " <a href=\"https://www.wicstorelocator.com/ci/wa-bainbridge_island\">Bainbridge Island</a>,\n",
       " <a href=\"https://www.wicstorelocator.com/ci/wa-basin_city\">Basin City</a>,\n",
       " <a href=\"https://www.wicstorelocator.com/ci/wa-battleground\">Battleground</a>,\n",
       " <a href=\"https://www.wicstorelocator.com/ci/wa-belfair\">Belfair</a>,\n",
       " <a href=\"https://www.wicstorelocator.com/ci/wa-bellevue\">Bellevue</a>,\n",
       " <a href=\"https://www.wicstorelocator.com/ci/wa-bellingham\">Bellingham</a>,\n",
       " <a href=\"https://www.wicstorelocator.com/ci/wa-benton_city\">Benton City</a>,\n",
       " <a href=\"https://www.wicstorelocator.com/ci/wa-blaine\">Blaine</a>,\n",
       " <a href=\"https://www.wicstorelocator.com/ci/wa-bonney_lake\">Bonney Lake</a>,\n",
       " <a href=\"https://www.wicstorelocator.com/ci/wa-bothell\">Bothell</a>,\n",
       " <a href=\"https://www.wicstorelocator.com/ci/wa-bremerton\">Bremerton</a>,\n",
       " <a href=\"https://www.wicstorelocator.com/ci/wa-brewster\">Brewster</a>,\n",
       " <a href=\"https://www.wicstorelocator.com/ci/wa-bridgeport\">Bridgeport</a>,\n",
       " <a href=\"https://www.wicstorelocator.com/ci/wa-burien\">Burien</a>,\n",
       " <a href=\"https://www.wicstorelocator.com/ci/wa-burlington\">Burlington</a>,\n",
       " <a href=\"https://www.wicstorelocator.com/ci/wa-camano_island\">Camano Island</a>,\n",
       " <a href=\"https://www.wicstorelocator.com/ci/wa-camas\">Camas</a>,\n",
       " <a href=\"https://www.wicstorelocator.com/ci/wa-carnation\">Carnation</a>,\n",
       " <a href=\"https://www.wicstorelocator.com/ci/wa-carson\">Carson</a>,\n",
       " <a href=\"https://www.wicstorelocator.com/ci/wa-cashmere\">Cashmere</a>,\n",
       " <a href=\"https://www.wicstorelocator.com/ci/wa-castle_rock\">Castle Rock</a>,\n",
       " <a href=\"https://www.wicstorelocator.com/ci/wa-cathlamet\">Cathlamet</a>,\n",
       " <a href=\"https://www.wicstorelocator.com/ci/wa-centralia\">Centralia</a>,\n",
       " <a href=\"https://www.wicstorelocator.com/ci/wa-chattaroy\">Chattaroy</a>,\n",
       " <a href=\"https://www.wicstorelocator.com/ci/wa-chehalis\">Chehalis</a>,\n",
       " <a href=\"https://www.wicstorelocator.com/ci/wa-chelan\">Chelan</a>,\n",
       " <a href=\"https://www.wicstorelocator.com/ci/wa-cheney\">Cheney</a>,\n",
       " <a href=\"https://www.wicstorelocator.com/ci/wa-chewelah\">Chewelah</a>,\n",
       " <a href=\"https://www.wicstorelocator.com/ci/wa-city\">City</a>,\n",
       " <a href=\"https://www.wicstorelocator.com/ci/wa-clarkston\">Clarkston</a>,\n",
       " <a href=\"https://www.wicstorelocator.com/ci/wa-cle_elum\">Cle Elum</a>,\n",
       " <a href=\"https://www.wicstorelocator.com/ci/wa-clinton\">Clinton</a>,\n",
       " <a href=\"https://www.wicstorelocator.com/ci/wa-colfax\">Colfax</a>,\n",
       " <a href=\"https://www.wicstorelocator.com/ci/wa-college_place\">College Place</a>,\n",
       " <a href=\"https://www.wicstorelocator.com/ci/wa-colville\">Colville</a>,\n",
       " <a href=\"https://www.wicstorelocator.com/ci/wa-concrete\">Concrete</a>,\n",
       " <a href=\"https://www.wicstorelocator.com/ci/wa-connell\">Connell</a>,\n",
       " <a href=\"https://www.wicstorelocator.com/ci/wa-coulee_city\">Coulee City</a>,\n",
       " <a href=\"https://www.wicstorelocator.com/ci/wa-coulee_dam\">Coulee Dam</a>,\n",
       " <a href=\"https://www.wicstorelocator.com/ci/wa-coupeville\">Coupeville</a>,\n",
       " <a href=\"https://www.wicstorelocator.com/ci/wa-covington\">Covington</a>,\n",
       " <a href=\"https://www.wicstorelocator.com/ci/wa-cowiche\">Cowiche</a>,\n",
       " <a href=\"https://www.wicstorelocator.com/ci/wa-darrington\">Darrington</a>,\n",
       " <a href=\"https://www.wicstorelocator.com/ci/wa-davenport\">Davenport</a>,\n",
       " <a href=\"https://www.wicstorelocator.com/ci/wa-dayton\">Dayton</a>,\n",
       " <a href=\"https://www.wicstorelocator.com/ci/wa-deer_park\">Deer Park</a>,\n",
       " <a href=\"https://www.wicstorelocator.com/ci/wa-des_moines\">Des Moines</a>,\n",
       " <a href=\"https://www.wicstorelocator.com/ci/wa-duvall\">Duvall</a>,\n",
       " <a href=\"https://www.wicstorelocator.com/ci/wa-east_wenatchee\">East Wenatchee</a>,\n",
       " <a href=\"https://www.wicstorelocator.com/ci/wa-eastsound\">Eastsound</a>,\n",
       " <a href=\"https://www.wicstorelocator.com/ci/wa-eatonville\">Eatonville</a>,\n",
       " <a href=\"https://www.wicstorelocator.com/ci/wa-edmonds\">Edmonds</a>,\n",
       " <a href=\"https://www.wicstorelocator.com/ci/wa-ellensburg\">Ellensburg</a>,\n",
       " <a href=\"https://www.wicstorelocator.com/ci/wa-elma\">Elma</a>,\n",
       " <a href=\"https://www.wicstorelocator.com/ci/wa-endicott\">Endicott</a>,\n",
       " <a href=\"https://www.wicstorelocator.com/ci/wa-entiat\">Entiat</a>,\n",
       " <a href=\"https://www.wicstorelocator.com/ci/wa-enumclaw\">Enumclaw</a>,\n",
       " <a href=\"https://www.wicstorelocator.com/ci/wa-ephrata\">Ephrata</a>,\n",
       " <a href=\"https://www.wicstorelocator.com/ci/wa-everett\">Everett</a>,\n",
       " <a href=\"https://www.wicstorelocator.com/ci/wa-everson\">Everson</a>,\n",
       " <a href=\"https://www.wicstorelocator.com/ci/wa-fairchild_afb\">Fairchild AFB</a>,\n",
       " <a href=\"https://www.wicstorelocator.com/ci/wa-fall_city\">Fall City</a>,\n",
       " <a href=\"https://www.wicstorelocator.com/ci/wa-federal_way\">Federal Way</a>,\n",
       " <a href=\"https://www.wicstorelocator.com/ci/wa-ferndale\">Ferndale</a>,\n",
       " <a href=\"https://www.wicstorelocator.com/ci/wa-fife\">Fife</a>,\n",
       " <a href=\"https://www.wicstorelocator.com/ci/wa-forks\">Forks</a>,\n",
       " <a href=\"https://www.wicstorelocator.com/ci/wa-fort_lewis\">Fort Lewis</a>,\n",
       " <a href=\"https://www.wicstorelocator.com/ci/wa-freeland\">Freeland</a>,\n",
       " <a href=\"https://www.wicstorelocator.com/ci/wa-friday_harbor\">Friday Harbor</a>,\n",
       " <a href=\"https://www.wicstorelocator.com/ci/wa-george\">George</a>,\n",
       " <a href=\"https://www.wicstorelocator.com/ci/wa-gig_harbor\">Gig Harbor</a>,\n",
       " <a href=\"https://www.wicstorelocator.com/ci/wa-gold_bar\">Gold Bar</a>,\n",
       " <a href=\"https://www.wicstorelocator.com/ci/wa-goldendale\">Goldendale</a>,\n",
       " <a href=\"https://www.wicstorelocator.com/ci/wa-graham\">Graham</a>,\n",
       " <a href=\"https://www.wicstorelocator.com/ci/wa-grand_coulee\">Grand Coulee</a>,\n",
       " <a href=\"https://www.wicstorelocator.com/ci/wa-grandview\">Grandview</a>,\n",
       " <a href=\"https://www.wicstorelocator.com/ci/wa-granger\">Granger</a>,\n",
       " <a href=\"https://www.wicstorelocator.com/ci/wa-granite_falls\">Granite Falls</a>,\n",
       " <a href=\"https://www.wicstorelocator.com/ci/wa-grayland\">Grayland</a>,\n",
       " <a href=\"https://www.wicstorelocator.com/ci/wa-harrah\">Harrah</a>,\n",
       " <a href=\"https://www.wicstorelocator.com/ci/wa-hood_river\">Hood River</a>,\n",
       " <a href=\"https://www.wicstorelocator.com/ci/wa-hoodsport\">Hoodsport</a>,\n",
       " <a href=\"https://www.wicstorelocator.com/ci/wa-hoquiam\">Hoquiam</a>,\n",
       " <a href=\"https://www.wicstorelocator.com/ci/wa-hunters\">Hunters</a>,\n",
       " <a href=\"https://www.wicstorelocator.com/ci/wa-inchelium\">Inchelium</a>,\n",
       " <a href=\"https://www.wicstorelocator.com/ci/wa-ione\">Ione</a>,\n",
       " <a href=\"https://www.wicstorelocator.com/ci/wa-issaquah\">Issaquah</a>,\n",
       " <a href=\"https://www.wicstorelocator.com/ci/wa-kalama\">Kalama</a>,\n",
       " <a href=\"https://www.wicstorelocator.com/ci/wa-keller\">Keller</a>,\n",
       " <a href=\"https://www.wicstorelocator.com/ci/wa-kelso\">Kelso</a>,\n",
       " <a href=\"https://www.wicstorelocator.com/ci/wa-kenmore\">Kenmore</a>,\n",
       " <a href=\"https://www.wicstorelocator.com/ci/wa-kennewick\">Kennewick</a>,\n",
       " <a href=\"https://www.wicstorelocator.com/ci/wa-kent\">Kent</a>,\n",
       " <a href=\"https://www.wicstorelocator.com/ci/wa-kettle_falls\">Kettle Falls</a>,\n",
       " <a href=\"https://www.wicstorelocator.com/ci/wa-kingston\">Kingston</a>,\n",
       " <a href=\"https://www.wicstorelocator.com/ci/wa-kirkland\">Kirkland</a>,\n",
       " <a href=\"https://www.wicstorelocator.com/ci/wa-klickitat\">Klickitat</a>,\n",
       " <a href=\"https://www.wicstorelocator.com/ci/wa-la_conner\">La Conner</a>,\n",
       " <a href=\"https://www.wicstorelocator.com/ci/wa-lacey\">Lacey</a>,\n",
       " <a href=\"https://www.wicstorelocator.com/ci/wa-lake_forest_park\">Lake Forest Park</a>,\n",
       " <a href=\"https://www.wicstorelocator.com/ci/wa-lake_stevens\">Lake Stevens</a>,\n",
       " <a href=\"https://www.wicstorelocator.com/ci/wa-lakebay\">Lakebay</a>,\n",
       " <a href=\"https://www.wicstorelocator.com/ci/wa-lakewood\">Lakewood</a>,\n",
       " <a href=\"https://www.wicstorelocator.com/ci/wa-langley\">Langley</a>,\n",
       " <a href=\"https://www.wicstorelocator.com/ci/wa-leavenworth\">Leavenworth</a>,\n",
       " <a href=\"https://www.wicstorelocator.com/ci/wa-liberty_lake\">Liberty Lake</a>,\n",
       " <a href=\"https://www.wicstorelocator.com/ci/wa-lind\">Lind</a>,\n",
       " <a href=\"https://www.wicstorelocator.com/ci/wa-longview\">Longview</a>,\n",
       " <a href=\"https://www.wicstorelocator.com/ci/wa-lopez\">Lopez</a>,\n",
       " <a href=\"https://www.wicstorelocator.com/ci/wa-lynden\">Lynden</a>,\n",
       " <a href=\"https://www.wicstorelocator.com/ci/wa-lynnwood\">Lynnwood</a>,\n",
       " <a href=\"https://www.wicstorelocator.com/ci/wa-mabton\">Mabton</a>,\n",
       " <a href=\"https://www.wicstorelocator.com/ci/wa-mansfield\">Mansfield</a>,\n",
       " <a href=\"https://www.wicstorelocator.com/ci/wa-manson\">Manson</a>,\n",
       " <a href=\"https://www.wicstorelocator.com/ci/wa-maple_falls\">Maple Falls</a>,\n",
       " <a href=\"https://www.wicstorelocator.com/ci/wa-maple_valley\">Maple Valley</a>,\n",
       " <a href=\"https://www.wicstorelocator.com/ci/wa-marysville\">Marysville</a>,\n",
       " <a href=\"https://www.wicstorelocator.com/ci/wa-mattawa\">Mattawa</a>,\n",
       " <a href=\"https://www.wicstorelocator.com/ci/wa-mcchord_afb\">McChord AFB</a>,\n",
       " <a href=\"https://www.wicstorelocator.com/ci/wa-mccleary\">McCleary</a>,\n",
       " <a href=\"https://www.wicstorelocator.com/ci/wa-mead\">Mead</a>,\n",
       " <a href=\"https://www.wicstorelocator.com/ci/wa-medical_lake\">Medical Lake</a>,\n",
       " <a href=\"https://www.wicstorelocator.com/ci/wa-mercer_island\">Mercer Island</a>,\n",
       " <a href=\"https://www.wicstorelocator.com/ci/wa-mesa\">Mesa</a>,\n",
       " <a href=\"https://www.wicstorelocator.com/ci/wa-mill_creek\">Mill Creek</a>,\n",
       " <a href=\"https://www.wicstorelocator.com/ci/wa-millwood\">Millwood</a>,\n",
       " <a href=\"https://www.wicstorelocator.com/ci/wa-milton\">Milton</a>,\n",
       " <a href=\"https://www.wicstorelocator.com/ci/wa-monroe\">Monroe</a>,\n",
       " <a href=\"https://www.wicstorelocator.com/ci/wa-montesano\">Montesano</a>,\n",
       " <a href=\"https://www.wicstorelocator.com/ci/wa-morton\">Morton</a>,\n",
       " <a href=\"https://www.wicstorelocator.com/ci/wa-moses_lake\">Moses Lake</a>,\n",
       " <a href=\"https://www.wicstorelocator.com/ci/wa-mossyrock\">Mossyrock</a>,\n",
       " <a href=\"https://www.wicstorelocator.com/ci/wa-mount_vernon\">Mount Vernon</a>,\n",
       " <a href=\"https://www.wicstorelocator.com/ci/wa-mountlake_terrace\">Mountlake Terrace</a>,\n",
       " <a href=\"https://www.wicstorelocator.com/ci/wa-mukilteo\">Mukilteo</a>,\n",
       " <a href=\"https://www.wicstorelocator.com/ci/wa-naches\">Naches</a>,\n",
       " <a href=\"https://www.wicstorelocator.com/ci/wa-naselle\">Naselle</a>,\n",
       " <a href=\"https://www.wicstorelocator.com/ci/wa-neah_bay\">Neah Bay</a>,\n",
       " <a href=\"https://www.wicstorelocator.com/ci/wa-nespelem\">Nespelem</a>,\n",
       " <a href=\"https://www.wicstorelocator.com/ci/wa-newcastle\">Newcastle</a>,\n",
       " <a href=\"https://www.wicstorelocator.com/ci/wa-newport\">Newport</a>,\n",
       " <a href=\"https://www.wicstorelocator.com/ci/wa-nine_mile_falls\">Nine Mile Falls</a>,\n",
       " <a href=\"https://www.wicstorelocator.com/ci/wa-normandy_park\">Normandy Park</a>,\n",
       " <a href=\"https://www.wicstorelocator.com/ci/wa-north_bend\">North Bend</a>,\n",
       " <a href=\"https://www.wicstorelocator.com/ci/wa-oak_harbor\">Oak Harbor</a>,\n",
       " <a href=\"https://www.wicstorelocator.com/ci/wa-oakesdale\">Oakesdale</a>,\n",
       " <a href=\"https://www.wicstorelocator.com/ci/wa-ocean_park\">Ocean Park</a>,\n",
       " <a href=\"https://www.wicstorelocator.com/ci/wa-ocean_shores\">Ocean Shores</a>,\n",
       " <a href=\"https://www.wicstorelocator.com/ci/wa-odessa\">Odessa</a>,\n",
       " <a href=\"https://www.wicstorelocator.com/ci/wa-okanogan\">Okanogan</a>,\n",
       " <a href=\"https://www.wicstorelocator.com/ci/wa-old_town\">Old Town</a>,\n",
       " <a href=\"https://www.wicstorelocator.com/ci/wa-olympia\">Olympia</a>,\n",
       " <a href=\"https://www.wicstorelocator.com/ci/wa-omak\">Omak</a>,\n",
       " <a href=\"https://www.wicstorelocator.com/ci/wa-onalaska\">Onalaska</a>,\n",
       " <a href=\"https://www.wicstorelocator.com/ci/wa-oroville\">Oroville</a>,\n",
       " <a href=\"https://www.wicstorelocator.com/ci/wa-orting\">Orting</a>,\n",
       " <a href=\"https://www.wicstorelocator.com/ci/wa-othello\">Othello</a>,\n",
       " <a href=\"https://www.wicstorelocator.com/ci/wa-packwood\">Packwood</a>,\n",
       " <a href=\"https://www.wicstorelocator.com/ci/wa-palouse\">Palouse</a>,\n",
       " <a href=\"https://www.wicstorelocator.com/ci/wa-parkland\">Parkland</a>,\n",
       " <a href=\"https://www.wicstorelocator.com/ci/wa-pasco\">Pasco</a>,\n",
       " <a href=\"https://www.wicstorelocator.com/ci/wa-point_roberts\">Point Roberts</a>,\n",
       " <a href=\"https://www.wicstorelocator.com/ci/wa-pomeroy\">Pomeroy</a>,\n",
       " <a href=\"https://www.wicstorelocator.com/ci/wa-port_angeles\">Port Angeles</a>,\n",
       " <a href=\"https://www.wicstorelocator.com/ci/wa-port_hadlock\">Port Hadlock</a>,\n",
       " <a href=\"https://www.wicstorelocator.com/ci/wa-port_orchard\">Port Orchard</a>,\n",
       " <a href=\"https://www.wicstorelocator.com/ci/wa-port_townsend\">Port Townsend</a>,\n",
       " <a href=\"https://www.wicstorelocator.com/ci/wa-poulsbo\">Poulsbo</a>,\n",
       " <a href=\"https://www.wicstorelocator.com/ci/wa-prescott\">Prescott</a>,\n",
       " <a href=\"https://www.wicstorelocator.com/ci/wa-prosser\">Prosser</a>,\n",
       " <a href=\"https://www.wicstorelocator.com/ci/wa-pullman\">Pullman</a>,\n",
       " <a href=\"https://www.wicstorelocator.com/ci/wa-puyallup\">Puyallup</a>,\n",
       " <a href=\"https://www.wicstorelocator.com/ci/wa-queets\">Queets</a>,\n",
       " <a href=\"https://www.wicstorelocator.com/ci/wa-quincy\">Quincy</a>,\n",
       " <a href=\"https://www.wicstorelocator.com/ci/wa-raymond\">Raymond</a>,\n",
       " <a href=\"https://www.wicstorelocator.com/ci/wa-redmond\">Redmond</a>,\n",
       " <a href=\"https://www.wicstorelocator.com/ci/wa-renton\">Renton</a>,\n",
       " <a href=\"https://www.wicstorelocator.com/ci/wa-republic\">Republic</a>,\n",
       " <a href=\"https://www.wicstorelocator.com/ci/wa-richland\">Richland</a>,\n",
       " <a href=\"https://www.wicstorelocator.com/ci/wa-ritzville\">Ritzville</a>,\n",
       " <a href=\"https://www.wicstorelocator.com/ci/wa-rochester\">Rochester</a>,\n",
       " <a href=\"https://www.wicstorelocator.com/ci/wa-rosalia\">Rosalia</a>,\n",
       " <a href=\"https://www.wicstorelocator.com/ci/wa-royal_city\">Royal City</a>,\n",
       " <a href=\"https://www.wicstorelocator.com/ci/wa-saint_john\">Saint John</a>,\n",
       " <a href=\"https://www.wicstorelocator.com/ci/wa-sea_tac\">Sea Tac</a>,\n",
       " <a href=\"https://www.wicstorelocator.com/ci/wa-seattle\">Seattle</a>,\n",
       " <a href=\"https://www.wicstorelocator.com/ci/wa-seaview\">Seaview</a>,\n",
       " <a href=\"https://www.wicstorelocator.com/ci/wa-sedro_woolley\">Sedro Woolley</a>,\n",
       " <a href=\"https://www.wicstorelocator.com/ci/wa-selah\">Selah</a>,\n",
       " <a href=\"https://www.wicstorelocator.com/ci/wa-sequim\">Sequim</a>,\n",
       " <a href=\"https://www.wicstorelocator.com/ci/wa-shelton\">Shelton</a>,\n",
       " <a href=\"https://www.wicstorelocator.com/ci/wa-shoreline\">Shoreline</a>,\n",
       " <a href=\"https://www.wicstorelocator.com/ci/wa-silverdale\">Silverdale</a>,\n",
       " <a href=\"https://www.wicstorelocator.com/ci/wa-snohomish\">Snohomish</a>,\n",
       " <a href=\"https://www.wicstorelocator.com/ci/wa-snoqualmie\">Snoqualmie</a>,\n",
       " <a href=\"https://www.wicstorelocator.com/ci/wa-south_bend\">South Bend</a>,\n",
       " <a href=\"https://www.wicstorelocator.com/ci/wa-spanaway\">Spanaway</a>,\n",
       " <a href=\"https://www.wicstorelocator.com/ci/wa-spokane\">Spokane</a>,\n",
       " <a href=\"https://www.wicstorelocator.com/ci/wa-spokane_valley\">Spokane Valley</a>,\n",
       " <a href=\"https://www.wicstorelocator.com/ci/wa-springdale\">Springdale</a>,\n",
       " <a href=\"https://www.wicstorelocator.com/ci/wa-stanwood\">Stanwood</a>,\n",
       " <a href=\"https://www.wicstorelocator.com/ci/wa-stevenson\">Stevenson</a>,\n",
       " <a href=\"https://www.wicstorelocator.com/ci/wa-sultan\">Sultan</a>,\n",
       " <a href=\"https://www.wicstorelocator.com/ci/wa-sumner\">Sumner</a>,\n",
       " <a href=\"https://www.wicstorelocator.com/ci/wa-sunnyside\">Sunnyside</a>,\n",
       " <a href=\"https://www.wicstorelocator.com/ci/wa-tacoma\">Tacoma</a>,\n",
       " <a href=\"https://www.wicstorelocator.com/ci/wa-taholah\">Taholah</a>,\n",
       " <a href=\"https://www.wicstorelocator.com/ci/wa-tekoa\">Tekoa</a>,\n",
       " <a href=\"https://www.wicstorelocator.com/ci/wa-tenino\">Tenino</a>,\n",
       " <a href=\"https://www.wicstorelocator.com/ci/wa-the_dalles\">The Dalles</a>,\n",
       " <a href=\"https://www.wicstorelocator.com/ci/wa-toledo\">Toledo</a>,\n",
       " <a href=\"https://www.wicstorelocator.com/ci/wa-tonasket\">Tonasket</a>,\n",
       " <a href=\"https://www.wicstorelocator.com/ci/wa-toppenish\">Toppenish</a>,\n",
       " <a href=\"https://www.wicstorelocator.com/ci/wa-tukwila\">Tukwila</a>,\n",
       " <a href=\"https://www.wicstorelocator.com/ci/wa-tumwater\">Tumwater</a>,\n",
       " <a href=\"https://www.wicstorelocator.com/ci/wa-twisp\">Twisp</a>,\n",
       " <a href=\"https://www.wicstorelocator.com/ci/wa-university_place\">University Place</a>,\n",
       " <a href=\"https://www.wicstorelocator.com/ci/wa-vancouver\">Vancouver</a>,\n",
       " <a href=\"https://www.wicstorelocator.com/ci/wa-vashon\">Vashon</a>,\n",
       " <a href=\"https://www.wicstorelocator.com/ci/wa-veradale\">Veradale</a>,\n",
       " <a href=\"https://www.wicstorelocator.com/ci/wa-waitsburg\">Waitsburg</a>,\n",
       " <a href=\"https://www.wicstorelocator.com/ci/wa-walla_walla\">Walla Walla</a>,\n",
       " <a href=\"https://www.wicstorelocator.com/ci/wa-wapato\">Wapato</a>,\n",
       " <a href=\"https://www.wicstorelocator.com/ci/wa-warden\">Warden</a>,\n",
       " <a href=\"https://www.wicstorelocator.com/ci/wa-washougal\">Washougal</a>,\n",
       " <a href=\"https://www.wicstorelocator.com/ci/wa-waterville\">Waterville</a>,\n",
       " <a href=\"https://www.wicstorelocator.com/ci/wa-wellpinit\">Wellpinit</a>,\n",
       " <a href=\"https://www.wicstorelocator.com/ci/wa-wenatchee\">Wenatchee</a>,\n",
       " <a href=\"https://www.wicstorelocator.com/ci/wa-west_richland\">West Richland</a>,\n",
       " <a href=\"https://www.wicstorelocator.com/ci/wa-westport\">Westport</a>,\n",
       " <a href=\"https://www.wicstorelocator.com/ci/wa-white_salmon\">White Salmon</a>,\n",
       " <a href=\"https://www.wicstorelocator.com/ci/wa-white_swan\">White Swan</a>,\n",
       " <a href=\"https://www.wicstorelocator.com/ci/wa-wilbur\">Wilbur</a>,\n",
       " <a href=\"https://www.wicstorelocator.com/ci/wa-winlock\">Winlock</a>,\n",
       " <a href=\"https://www.wicstorelocator.com/ci/wa-winthrop\">Winthrop</a>,\n",
       " <a href=\"https://www.wicstorelocator.com/ci/wa-woodinville\">Woodinville</a>,\n",
       " <a href=\"https://www.wicstorelocator.com/ci/wa-woodland\">Woodland</a>,\n",
       " <a href=\"https://www.wicstorelocator.com/ci/wa-yakima\">Yakima</a>,\n",
       " <a href=\"https://www.wicstorelocator.com/ci/wa-yelm\">Yelm</a>,\n",
       " <a href=\"https://www.wicstorelocator.com/ci/wa-zillah\">Zillah</a>,\n",
       " <a class=\"\" href=\"https://www.wicstorelocator.com/feed/\" title=\"RSS\">RSS</a>,\n",
       " <a class=\"\" href=\"https://www.foodpantries.org\" title=\"\">FoodPantries.org</a>,\n",
       " <a class=\"\" href=\"https://www.homelessshelterdirectory.org/foodbanks/index.html\" title=\"\">HSD Food Resources</a>,\n",
       " <a href=\"https://www.wicstorelocator.com/\">Home</a>,\n",
       " <a href=\"https://www.wicstorelocator.com/ar/about\">About Us</a>,\n",
       " <a href=\"https://www.wicstorelocator.com/member/listing_add_new.php\">Add a listing</a>]"
      ]
     },
     "execution_count": 25,
     "metadata": {},
     "output_type": "execute_result"
    }
   ],
   "source": [
    "\n",
    "whole_list.find_all(\"a\", href=True)"
   ]
  },
  {
   "cell_type": "code",
   "execution_count": null,
   "metadata": {
    "Collapsed": "false"
   },
   "outputs": [],
   "source": []
  }
 ],
 "metadata": {
  "kernelspec": {
   "display_name": "Python 3",
   "language": "python",
   "name": "python3"
  },
  "language_info": {
   "codemirror_mode": {
    "name": "ipython",
    "version": 3
   },
   "file_extension": ".py",
   "mimetype": "text/x-python",
   "name": "python",
   "nbconvert_exporter": "python",
   "pygments_lexer": "ipython3",
   "version": "3.7.3"
  }
 },
 "nbformat": 4,
 "nbformat_minor": 4
}
