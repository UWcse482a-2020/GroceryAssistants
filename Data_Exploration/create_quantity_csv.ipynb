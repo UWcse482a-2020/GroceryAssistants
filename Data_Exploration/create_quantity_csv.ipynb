{
 "cells": [
  {
   "cell_type": "markdown",
   "metadata": {
    "Collapsed": "false"
   },
   "source": [
    "# Create database for quantity estimation"
   ]
  },
  {
   "cell_type": "code",
   "execution_count": 57,
   "metadata": {
    "Collapsed": "false"
   },
   "outputs": [],
   "source": [
    "import pandas as pd"
   ]
  },
  {
   "cell_type": "code",
   "execution_count": 58,
   "metadata": {
    "Collapsed": "false"
   },
   "outputs": [],
   "source": [
    "df = pd.read_csv(\"../data/wic_database_cleaned.csv\")"
   ]
  },
  {
   "cell_type": "code",
   "execution_count": 59,
   "metadata": {
    "Collapsed": "false"
   },
   "outputs": [],
   "source": [
    "df = df.set_index(\"UPC/PLU\")"
   ]
  },
  {
   "cell_type": "code",
   "execution_count": 60,
   "metadata": {
    "Collapsed": "false"
   },
   "outputs": [],
   "source": [
    "ind = list(df.index)\n",
    "cat = list(df.Category)\n",
    "subcat = list(df.Subcategory)\n",
    "desc = list(df.Description)\n",
    "size = list(df.Size)\n",
    "unit = list(df.Unit)"
   ]
  },
  {
   "cell_type": "code",
   "execution_count": 61,
   "metadata": {
    "Collapsed": "false"
   },
   "outputs": [],
   "source": [
    "# location store info database\n",
    "store_df = pd.read_csv(\"../data/stores.csv\")"
   ]
  },
  {
   "cell_type": "code",
   "execution_count": 62,
   "metadata": {
    "Collapsed": "false"
   },
   "outputs": [
    {
     "data": {
      "text/html": [
       "<div>\n",
       "<style scoped>\n",
       "    .dataframe tbody tr th:only-of-type {\n",
       "        vertical-align: middle;\n",
       "    }\n",
       "\n",
       "    .dataframe tbody tr th {\n",
       "        vertical-align: top;\n",
       "    }\n",
       "\n",
       "    .dataframe thead th {\n",
       "        text-align: right;\n",
       "    }\n",
       "</style>\n",
       "<table border=\"1\" class=\"dataframe\">\n",
       "  <thead>\n",
       "    <tr style=\"text-align: right;\">\n",
       "      <th></th>\n",
       "      <th>Store</th>\n",
       "      <th>Location</th>\n",
       "    </tr>\n",
       "  </thead>\n",
       "  <tbody>\n",
       "    <tr>\n",
       "      <th>0</th>\n",
       "      <td>Albertsons #2410</td>\n",
       "      <td>https://www.google.com/maps/place/13050 Aurora...</td>\n",
       "    </tr>\n",
       "    <tr>\n",
       "      <th>1</th>\n",
       "      <td>Albertsons #3408</td>\n",
       "      <td>https://www.google.com/maps/place/2550 32nd Av...</td>\n",
       "    </tr>\n",
       "    <tr>\n",
       "      <th>2</th>\n",
       "      <td>Boulevard Park Thriftway</td>\n",
       "      <td>https://www.google.com/maps/place/12000 Des Mo...</td>\n",
       "    </tr>\n",
       "    <tr>\n",
       "      <th>3</th>\n",
       "      <td>Dominic's Red Apple</td>\n",
       "      <td>https://www.google.com/maps/place/9627 Des Moi...</td>\n",
       "    </tr>\n",
       "    <tr>\n",
       "      <th>4</th>\n",
       "      <td>Fred Meyer #122 - Greenwood</td>\n",
       "      <td>https://www.google.com/maps/place/100 NW 85th ...</td>\n",
       "    </tr>\n",
       "  </tbody>\n",
       "</table>\n",
       "</div>"
      ],
      "text/plain": [
       "                         Store  \\\n",
       "0             Albertsons #2410   \n",
       "1             Albertsons #3408   \n",
       "2     Boulevard Park Thriftway   \n",
       "3          Dominic's Red Apple   \n",
       "4  Fred Meyer #122 - Greenwood   \n",
       "\n",
       "                                            Location  \n",
       "0  https://www.google.com/maps/place/13050 Aurora...  \n",
       "1  https://www.google.com/maps/place/2550 32nd Av...  \n",
       "2  https://www.google.com/maps/place/12000 Des Mo...  \n",
       "3  https://www.google.com/maps/place/9627 Des Moi...  \n",
       "4  https://www.google.com/maps/place/100 NW 85th ...  "
      ]
     },
     "execution_count": 62,
     "metadata": {},
     "output_type": "execute_result"
    }
   ],
   "source": [
    "store_df.head()"
   ]
  },
  {
   "cell_type": "code",
   "execution_count": 63,
   "metadata": {
    "Collapsed": "false"
   },
   "outputs": [],
   "source": [
    "store = list(store_df.Store)\n",
    "loc = list(store_df.Location)"
   ]
  },
  {
   "cell_type": "code",
   "execution_count": 64,
   "metadata": {
    "Collapsed": "false"
   },
   "outputs": [
    {
     "name": "stderr",
     "output_type": "stream",
     "text": [
      "/Users/lpjiang/.miniconda3/envs/482a/lib/python3.7/site-packages/ipykernel_launcher.py:5: DeprecationWarning: Using Nominatim with the default \"geopy/1.22.0\" `user_agent` is strongly discouraged, as it violates Nominatim's ToS https://operations.osmfoundation.org/policies/nominatim/ and may possibly cause 403 and 429 HTTP errors. Please specify a custom `user_agent` with `Nominatim(user_agent=\"my-application\")` or by overriding the default `user_agent`: `geopy.geocoders.options.default_user_agent = \"my-application\"`. In geopy 2.0 this will become an exception.\n",
      "  \"\"\"\n"
     ]
    }
   ],
   "source": [
    "from  geopy.geocoders import Nominatim\n",
    "\n",
    "new_store = []\n",
    "new_loc = []\n",
    "geolocator = Nominatim()\n",
    "lat = []\n",
    "lng = []\n",
    "for s, l in zip(store, loc):\n",
    "    address = l.lstrip(\"https://www.google.com/maps/place/\").rstrip(\"/\")\n",
    "    info = geolocator.geocode(address)\n",
    "    if info is not None:\n",
    "        new_store.append(s)\n",
    "        new_loc.append(l)\n",
    "        lat.append(info.latitude)\n",
    "        lng.append(info.longitude)"
   ]
  },
  {
   "cell_type": "code",
   "execution_count": 65,
   "metadata": {
    "Collapsed": "false"
   },
   "outputs": [
    {
     "data": {
      "text/plain": [
       "['Albertsons #2410',\n",
       " 'Albertsons #3408',\n",
       " 'Fred Meyer #122 - Greenwood',\n",
       " 'Fred Meyer #179 - Lake City',\n",
       " 'Hilltop Red Apple Market',\n",
       " 'HT Oaktree Market',\n",
       " 'Maka Mini Market',\n",
       " 'QFC #804 - Capitol Hill',\n",
       " 'QFC #805 - Manhattan Village',\n",
       " 'QFC #807 - University Village',\n",
       " 'QFC #811 - Interbay',\n",
       " 'QFC #816 - Richmond Beach',\n",
       " 'QFC #847 - Harvard Market',\n",
       " 'QFC #849- Rainier Ave',\n",
       " 'QFC #858 - North Seattle',\n",
       " 'QFC #866 - Northgate',\n",
       " 'QFC #869 - Wallingford',\n",
       " 'QFC #872 - Holman Rd',\n",
       " 'QFC #873 - Wedgewood',\n",
       " 'QFC #883 - West Seattle',\n",
       " \"Saar's Super Saver Foods\",\n",
       " 'Safeway #1062 - Jefferson Square',\n",
       " 'Safeway #1143 - Crown Hill',\n",
       " 'Safeway #1477 - Ballard',\n",
       " 'Safeway #1508 - Rainier Valley',\n",
       " 'Safeway #1550 - Roosevelt',\n",
       " 'Safeway #1551 - Capitol Hill',\n",
       " 'Safeway #1586 - Pinehurst',\n",
       " 'Safeway #1845',\n",
       " 'Safeway #1923 - Roxbury',\n",
       " 'Safeway #1965 - Rainier Beach',\n",
       " 'Safeway #1993',\n",
       " 'Safeway #2932',\n",
       " 'Safeway #3091 - University',\n",
       " 'Safeway #368 - Upper Queen Anne',\n",
       " 'Safeway #423 - Wedgewood',\n",
       " 'Safeway #488 - University Village',\n",
       " 'Target Store T-0637',\n",
       " 'Target Store T-2786',\n",
       " 'West Seattle Thriftway #603']"
      ]
     },
     "execution_count": 65,
     "metadata": {},
     "output_type": "execute_result"
    }
   ],
   "source": [
    "new_store"
   ]
  },
  {
   "cell_type": "code",
   "execution_count": 66,
   "metadata": {
    "Collapsed": "false"
   },
   "outputs": [
    {
     "data": {
      "text/plain": [
       "['https://www.google.com/maps/place/13050 Aurora Avenue N., Seattle, WA /',\n",
       " 'https://www.google.com/maps/place/2550 32nd Ave. W, Seattle, WA /',\n",
       " 'https://www.google.com/maps/place/100 NW 85th St., Seattle, WA /',\n",
       " 'https://www.google.com/maps/place/13000 Lake City Way NE, Seattle, WA /',\n",
       " 'https://www.google.com/maps/place/2701 Beacon Ave. S., Seattle, WA /',\n",
       " 'https://www.google.com/maps/place/10008 Aurora Ave North, Seattle, WA /',\n",
       " 'https://www.google.com/maps/place/4419 S. Brandon St., Seattle, WA /',\n",
       " 'https://www.google.com/maps/place/416 15th Ave. E, Seattle, WA /',\n",
       " 'https://www.google.com/maps/place/17847 1st Ave. S, Seattle, WA /',\n",
       " 'https://www.google.com/maps/place/2746 NE 45th St., Seattle, WA /',\n",
       " 'https://www.google.com/maps/place/1600 West Dravus, Seattle, WA /',\n",
       " 'https://www.google.com/maps/place/F, Seattle, WA /',\n",
       " 'https://www.google.com/maps/place/1401 Broadway Ave, Seattle, WA /',\n",
       " 'https://www.google.com/maps/place/2707 Rainier Ave S, Seattle, WA /',\n",
       " 'https://www.google.com/maps/place/1531 NE 145th Street, Seattle, WA /',\n",
       " 'https://www.google.com/maps/place/11100 Roosevelt Way NE, Seattle, WA /',\n",
       " 'https://www.google.com/maps/place/1801 N 45th Street, Seattle, WA /',\n",
       " 'https://www.google.com/maps/place/9999 Holman Rd NW, Seattle, WA /',\n",
       " 'https://www.google.com/maps/place/8400 35th Avenue NE, Seattle, WA /',\n",
       " 'https://www.google.com/maps/place/4550 42nd Avenue SW, Seattle, WA /',\n",
       " 'https://www.google.com/maps/place/10616 16th Ave SW, Seattle, WA /',\n",
       " 'https://www.google.com/maps/place/4754 42nd Ave. SW, Seattle, WA /',\n",
       " 'https://www.google.com/maps/place/8340 15th Ave NW, Seattle, WA /',\n",
       " 'https://www.google.com/maps/place/1423 NW Market St., Seattle, WA /',\n",
       " 'https://www.google.com/maps/place/3820 Rainier Ave South, Seattle, WA /',\n",
       " 'https://www.google.com/maps/place/7300 Roosevelt Way NE, Seattle, WA /',\n",
       " 'https://www.google.com/maps/place/1410 E. John St., Seattle, WA /',\n",
       " 'https://www.google.com/maps/place/12318 15th Ave NE, Seattle, WA /',\n",
       " 'https://www.google.com/maps/place/8704 Greenwood Ave. N., Seattle, WA /',\n",
       " 'https://www.google.com/maps/place/9620 28th Ave. SW, Seattle, WA /',\n",
       " 'https://www.google.com/maps/place/9262 Rainier Ave S, Seattle, WA /',\n",
       " 'https://www.google.com/maps/place/2201 East Madison, Seattle, WA /',\n",
       " 'https://www.google.com/maps/place/2622 California Avenue SW, Seattle, WA /',\n",
       " 'https://www.google.com/maps/place/4732 Brooklyn NE, Seattle, WA /',\n",
       " 'https://www.google.com/maps/place/2100 Queen Anne Ave. N., Seattle, WA /',\n",
       " 'https://www.google.com/maps/place/7340 35th NE, Seattle, WA /',\n",
       " 'https://www.google.com/maps/place/3020 NE 45th St, Seattle, WA /',\n",
       " 'https://www.google.com/maps/place/2800 SW Barton St, Seattle, WA /',\n",
       " 'https://www.google.com/maps/place/1401 2nd Ave, Seattle, WA /',\n",
       " 'https://www.google.com/maps/place/4201 SW Morgan St., Seattle, WA /']"
      ]
     },
     "execution_count": 66,
     "metadata": {},
     "output_type": "execute_result"
    }
   ],
   "source": [
    "new_loc"
   ]
  },
  {
   "cell_type": "code",
   "execution_count": 67,
   "metadata": {
    "Collapsed": "false"
   },
   "outputs": [],
   "source": [
    "inds = []\n",
    "cats = []\n",
    "subcats = []\n",
    "descs = []\n",
    "sizes = []\n",
    "units = []\n",
    "stores = []\n",
    "locations = []\n",
    "lats = []\n",
    "lngs = []\n",
    "quantity = []\n",
    "last_updated = []"
   ]
  },
  {
   "cell_type": "code",
   "execution_count": 68,
   "metadata": {
    "Collapsed": "false"
   },
   "outputs": [],
   "source": [
    "import random"
   ]
  },
  {
   "cell_type": "code",
   "execution_count": 69,
   "metadata": {
    "Collapsed": "false"
   },
   "outputs": [],
   "source": [
    "for i, c, subc, d, ss, unis in zip(ind, cat, subcat, desc, size, unit):\n",
    "    for s, l, lt, lg in zip(new_store, new_loc, lat, lng):\n",
    "        inds.append(i)\n",
    "        cats.append(c)\n",
    "        subcats.append(subc)\n",
    "        descs.append(d)\n",
    "        sizes.append(ss)\n",
    "        units.append(unis)\n",
    "        stores.append(s)\n",
    "        locations.append(l)\n",
    "        lats.append(lt)\n",
    "        lngs.append(lg)\n",
    "        quantity.append(random.randint(1, 30))\n",
    "        last_updated.append(\"None\")"
   ]
  },
  {
   "cell_type": "markdown",
   "metadata": {
    "Collapsed": "false"
   },
   "source": [
    "## Quantity database"
   ]
  },
  {
   "cell_type": "code",
   "execution_count": 70,
   "metadata": {
    "Collapsed": "false"
   },
   "outputs": [],
   "source": [
    "quant = {\"UPC_PLU\":inds, \"Category\": cats, \"Subcategory\": subcats, \"Description\": descs, \"Size\": sizes, \"Unit\": units, \"Store\": stores, \"Location\": locations, \"Latitude\": lats, \"Longitude\": lngs, \"Quantity\": quantity, \"Last_Updated\": last_updated}"
   ]
  },
  {
   "cell_type": "code",
   "execution_count": 71,
   "metadata": {
    "Collapsed": "false"
   },
   "outputs": [],
   "source": [
    "quant_df = pd.DataFrame(data=quant)"
   ]
  },
  {
   "cell_type": "code",
   "execution_count": 72,
   "metadata": {
    "Collapsed": "false"
   },
   "outputs": [
    {
     "data": {
      "text/html": [
       "<div>\n",
       "<style scoped>\n",
       "    .dataframe tbody tr th:only-of-type {\n",
       "        vertical-align: middle;\n",
       "    }\n",
       "\n",
       "    .dataframe tbody tr th {\n",
       "        vertical-align: top;\n",
       "    }\n",
       "\n",
       "    .dataframe thead th {\n",
       "        text-align: right;\n",
       "    }\n",
       "</style>\n",
       "<table border=\"1\" class=\"dataframe\">\n",
       "  <thead>\n",
       "    <tr style=\"text-align: right;\">\n",
       "      <th></th>\n",
       "      <th>UPC_PLU</th>\n",
       "      <th>Category</th>\n",
       "      <th>Subcategory</th>\n",
       "      <th>Description</th>\n",
       "      <th>Size</th>\n",
       "      <th>Unit</th>\n",
       "      <th>Store</th>\n",
       "      <th>Location</th>\n",
       "      <th>Latitude</th>\n",
       "      <th>Longitude</th>\n",
       "      <th>Quantity</th>\n",
       "      <th>Last_Updated</th>\n",
       "    </tr>\n",
       "  </thead>\n",
       "  <tbody>\n",
       "    <tr>\n",
       "      <th>0</th>\n",
       "      <td>72220110616</td>\n",
       "      <td>Bread/Whole Grains</td>\n",
       "      <td>Bread - 100% Whole Wheat</td>\n",
       "      <td>Abiqua Farms 100% Whole Wheat Bread 24 oz</td>\n",
       "      <td>24.0</td>\n",
       "      <td>OZ</td>\n",
       "      <td>Albertsons #2410</td>\n",
       "      <td>https://www.google.com/maps/place/13050 Aurora...</td>\n",
       "      <td>47.723864</td>\n",
       "      <td>-122.343042</td>\n",
       "      <td>21</td>\n",
       "      <td>None</td>\n",
       "    </tr>\n",
       "    <tr>\n",
       "      <th>1</th>\n",
       "      <td>72220110616</td>\n",
       "      <td>Bread/Whole Grains</td>\n",
       "      <td>Bread - 100% Whole Wheat</td>\n",
       "      <td>Abiqua Farms 100% Whole Wheat Bread 24 oz</td>\n",
       "      <td>24.0</td>\n",
       "      <td>OZ</td>\n",
       "      <td>Albertsons #3408</td>\n",
       "      <td>https://www.google.com/maps/place/2550 32nd Av...</td>\n",
       "      <td>47.642463</td>\n",
       "      <td>-122.397879</td>\n",
       "      <td>10</td>\n",
       "      <td>None</td>\n",
       "    </tr>\n",
       "    <tr>\n",
       "      <th>2</th>\n",
       "      <td>72220110616</td>\n",
       "      <td>Bread/Whole Grains</td>\n",
       "      <td>Bread - 100% Whole Wheat</td>\n",
       "      <td>Abiqua Farms 100% Whole Wheat Bread 24 oz</td>\n",
       "      <td>24.0</td>\n",
       "      <td>OZ</td>\n",
       "      <td>Fred Meyer #122 - Greenwood</td>\n",
       "      <td>https://www.google.com/maps/place/100 NW 85th ...</td>\n",
       "      <td>47.691897</td>\n",
       "      <td>-122.358848</td>\n",
       "      <td>4</td>\n",
       "      <td>None</td>\n",
       "    </tr>\n",
       "    <tr>\n",
       "      <th>3</th>\n",
       "      <td>72220110616</td>\n",
       "      <td>Bread/Whole Grains</td>\n",
       "      <td>Bread - 100% Whole Wheat</td>\n",
       "      <td>Abiqua Farms 100% Whole Wheat Bread 24 oz</td>\n",
       "      <td>24.0</td>\n",
       "      <td>OZ</td>\n",
       "      <td>Fred Meyer #179 - Lake City</td>\n",
       "      <td>https://www.google.com/maps/place/13000 Lake C...</td>\n",
       "      <td>47.723711</td>\n",
       "      <td>-122.291100</td>\n",
       "      <td>2</td>\n",
       "      <td>None</td>\n",
       "    </tr>\n",
       "    <tr>\n",
       "      <th>4</th>\n",
       "      <td>72220110616</td>\n",
       "      <td>Bread/Whole Grains</td>\n",
       "      <td>Bread - 100% Whole Wheat</td>\n",
       "      <td>Abiqua Farms 100% Whole Wheat Bread 24 oz</td>\n",
       "      <td>24.0</td>\n",
       "      <td>OZ</td>\n",
       "      <td>Hilltop Red Apple Market</td>\n",
       "      <td>https://www.google.com/maps/place/2701 Beacon ...</td>\n",
       "      <td>47.579053</td>\n",
       "      <td>-122.312918</td>\n",
       "      <td>18</td>\n",
       "      <td>None</td>\n",
       "    </tr>\n",
       "  </tbody>\n",
       "</table>\n",
       "</div>"
      ],
      "text/plain": [
       "       UPC_PLU            Category               Subcategory  \\\n",
       "0  72220110616  Bread/Whole Grains  Bread - 100% Whole Wheat   \n",
       "1  72220110616  Bread/Whole Grains  Bread - 100% Whole Wheat   \n",
       "2  72220110616  Bread/Whole Grains  Bread - 100% Whole Wheat   \n",
       "3  72220110616  Bread/Whole Grains  Bread - 100% Whole Wheat   \n",
       "4  72220110616  Bread/Whole Grains  Bread - 100% Whole Wheat   \n",
       "\n",
       "                                 Description  Size Unit  \\\n",
       "0  Abiqua Farms 100% Whole Wheat Bread 24 oz  24.0   OZ   \n",
       "1  Abiqua Farms 100% Whole Wheat Bread 24 oz  24.0   OZ   \n",
       "2  Abiqua Farms 100% Whole Wheat Bread 24 oz  24.0   OZ   \n",
       "3  Abiqua Farms 100% Whole Wheat Bread 24 oz  24.0   OZ   \n",
       "4  Abiqua Farms 100% Whole Wheat Bread 24 oz  24.0   OZ   \n",
       "\n",
       "                         Store  \\\n",
       "0             Albertsons #2410   \n",
       "1             Albertsons #3408   \n",
       "2  Fred Meyer #122 - Greenwood   \n",
       "3  Fred Meyer #179 - Lake City   \n",
       "4     Hilltop Red Apple Market   \n",
       "\n",
       "                                            Location   Latitude   Longitude  \\\n",
       "0  https://www.google.com/maps/place/13050 Aurora...  47.723864 -122.343042   \n",
       "1  https://www.google.com/maps/place/2550 32nd Av...  47.642463 -122.397879   \n",
       "2  https://www.google.com/maps/place/100 NW 85th ...  47.691897 -122.358848   \n",
       "3  https://www.google.com/maps/place/13000 Lake C...  47.723711 -122.291100   \n",
       "4  https://www.google.com/maps/place/2701 Beacon ...  47.579053 -122.312918   \n",
       "\n",
       "   Quantity Last_Updated  \n",
       "0        21         None  \n",
       "1        10         None  \n",
       "2         4         None  \n",
       "3         2         None  \n",
       "4        18         None  "
      ]
     },
     "execution_count": 72,
     "metadata": {},
     "output_type": "execute_result"
    }
   ],
   "source": [
    "quant_df.head()"
   ]
  },
  {
   "cell_type": "code",
   "execution_count": 75,
   "metadata": {
    "Collapsed": "false"
   },
   "outputs": [],
   "source": [
    "quant_df.to_csv(\"../data/quantities.csv\", index=False)"
   ]
  },
  {
   "cell_type": "code",
   "execution_count": 76,
   "metadata": {
    "Collapsed": "false"
   },
   "outputs": [],
   "source": [
    "quant_df.to_json(\"../data/quantities.json\", orient=\"table\", index=False)"
   ]
  },
  {
   "cell_type": "code",
   "execution_count": null,
   "metadata": {
    "Collapsed": "false"
   },
   "outputs": [],
   "source": []
  }
 ],
 "metadata": {
  "kernelspec": {
   "display_name": "Python 3",
   "language": "python",
   "name": "python3"
  },
  "language_info": {
   "codemirror_mode": {
    "name": "ipython",
    "version": 3
   },
   "file_extension": ".py",
   "mimetype": "text/x-python",
   "name": "python",
   "nbconvert_exporter": "python",
   "pygments_lexer": "ipython3",
   "version": "3.7.3"
  }
 },
 "nbformat": 4,
 "nbformat_minor": 4
}
