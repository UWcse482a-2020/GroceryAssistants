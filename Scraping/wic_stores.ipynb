{
 "cells": [
  {
   "cell_type": "markdown",
   "metadata": {
    "Collapsed": "false"
   },
   "source": [
    "# Scrape WIC store info"
   ]
  },
  {
   "cell_type": "code",
   "execution_count": 1,
   "metadata": {
    "Collapsed": "false"
   },
   "outputs": [],
   "source": [
    "import requests\n",
    "from bs4 import BeautifulSoup"
   ]
  },
  {
   "cell_type": "markdown",
   "metadata": {
    "Collapsed": "false"
   },
   "source": [
    "## Seattle"
   ]
  },
  {
   "cell_type": "code",
   "execution_count": 2,
   "metadata": {
    "Collapsed": "false"
   },
   "outputs": [],
   "source": [
    "URL = \"https://www.wicstorelocator.com/ci/wa-seattle\"\n",
    "page = requests.get(URL)"
   ]
  },
  {
   "cell_type": "code",
   "execution_count": 3,
   "metadata": {
    "Collapsed": "false"
   },
   "outputs": [],
   "source": [
    "soup = BeautifulSoup(page.content, 'html.parser')"
   ]
  },
  {
   "cell_type": "markdown",
   "metadata": {
    "Collapsed": "false"
   },
   "source": [
    "### store links"
   ]
  },
  {
   "cell_type": "code",
   "execution_count": 7,
   "metadata": {
    "Collapsed": "false"
   },
   "outputs": [
    {
     "data": {
      "text/plain": [
       "[<a href=\"https://www.google.com/maps/place/13050 Aurora Avenue N., Seattle, WA /\" target=\"_blank\">See On Map</a>,\n",
       " <a href=\"https://www.google.com/maps/place/2550 32nd Ave. W, Seattle, WA /\" target=\"_blank\">See On Map</a>,\n",
       " <a href=\"https://www.google.com/maps/place/12000 Des Moines Dr.. S., Seattle, WA /\" target=\"_blank\">See On Map</a>,\n",
       " <a href=\"https://www.google.com/maps/place/9627 Des Moines Mem. Dr. S., Seattle, WA /\" target=\"_blank\">See On Map</a>,\n",
       " <a href=\"https://www.google.com/maps/place/100 NW 85th St., Seattle, WA /\" target=\"_blank\">See On Map</a>,\n",
       " <a href=\"https://www.google.com/maps/place/13000 Lake City Way NE, Seattle, WA /\" target=\"_blank\">See On Map</a>,\n",
       " <a href=\"https://www.google.com/maps/place/915 N.W. 45th Street, Seattle, WA /\" target=\"_blank\">See On Map</a>,\n",
       " <a href=\"https://www.google.com/maps/place/2701 Beacon Ave. S., Seattle, WA /\" target=\"_blank\">See On Map</a>,\n",
       " <a href=\"https://www.google.com/maps/place/10008 Aurora Ave North, Seattle, WA /\" target=\"_blank\">See On Map</a>,\n",
       " <a href=\"https://www.google.com/maps/place/1419 Third Avenue-Lower Level, Seattle, WA /\" target=\"_blank\">See On Map</a>,\n",
       " <a href=\"https://www.google.com/maps/place/4419 S. Brandon St., Seattle, WA /\" target=\"_blank\">See On Map</a>,\n",
       " <a href=\"https://www.google.com/maps/place/6727 MLK Jr Way S  #B, Seattle, WA /\" target=\"_blank\">See On Map</a>,\n",
       " <a href=\"https://www.google.com/maps/place/416 15th Ave. E, Seattle, WA /\" target=\"_blank\">See On Map</a>,\n",
       " <a href=\"https://www.google.com/maps/place/17847 1st Ave. S, Seattle, WA /\" target=\"_blank\">See On Map</a>,\n",
       " <a href=\"https://www.google.com/maps/place/2746 NE 45th St., Seattle, WA /\" target=\"_blank\">See On Map</a>,\n",
       " <a href=\"https://www.google.com/maps/place/1600 West Dravus, Seattle, WA /\" target=\"_blank\">See On Map</a>,\n",
       " <a href=\"https://www.google.com/maps/place/F, Seattle, WA /\" target=\"_blank\">See On Map</a>,\n",
       " <a href=\"https://www.google.com/maps/place/2500 SW Barton  Ste B-1, Seattle, WA /\" target=\"_blank\">See On Map</a>,\n",
       " <a href=\"https://www.google.com/maps/place/1401 Broadway Ave, Seattle, WA /\" target=\"_blank\">See On Map</a>,\n",
       " <a href=\"https://www.google.com/maps/place/2707 Rainier Ave S, Seattle, WA /\" target=\"_blank\">See On Map</a>,\n",
       " <a href=\"https://www.google.com/maps/place/1531 NE 145th Street, Seattle, WA /\" target=\"_blank\">See On Map</a>,\n",
       " <a href=\"https://www.google.com/maps/place/11100 Roosevelt Way NE, Seattle, WA /\" target=\"_blank\">See On Map</a>,\n",
       " <a href=\"https://www.google.com/maps/place/1801 N 45th Street, Seattle, WA /\" target=\"_blank\">See On Map</a>,\n",
       " <a href=\"https://www.google.com/maps/place/9999 Holman Rd NW, Seattle, WA /\" target=\"_blank\">See On Map</a>,\n",
       " <a href=\"https://www.google.com/maps/place/8400 35th Avenue NE, Seattle, WA /\" target=\"_blank\">See On Map</a>,\n",
       " <a href=\"https://www.google.com/maps/place/500 Mercer Street  C-10, Seattle, WA /\" target=\"_blank\">See On Map</a>,\n",
       " <a href=\"https://www.google.com/maps/place/4550 42nd Avenue SW, Seattle, WA /\" target=\"_blank\">See On Map</a>,\n",
       " <a href=\"https://www.google.com/maps/place/417 Broadway Ave. E  Box #2, Seattle, WA /\" target=\"_blank\">See On Map</a>,\n",
       " <a href=\"https://www.google.com/maps/place/10616 16th Ave SW, Seattle, WA /\" target=\"_blank\">See On Map</a>,\n",
       " <a href=\"https://www.google.com/maps/place/4754 42nd Ave. SW, Seattle, WA /\" target=\"_blank\">See On Map</a>,\n",
       " <a href=\"https://www.google.com/maps/place/8340 15th Ave NW, Seattle, WA /\" target=\"_blank\">See On Map</a>,\n",
       " <a href=\"https://www.google.com/maps/place/1423 NW Market St., Seattle, WA /\" target=\"_blank\">See On Map</a>,\n",
       " <a href=\"https://www.google.com/maps/place/3820 Rainier Ave South, Seattle, WA /\" target=\"_blank\">See On Map</a>,\n",
       " <a href=\"https://www.google.com/maps/place/7300 Roosevelt Way NE, Seattle, WA /\" target=\"_blank\">See On Map</a>,\n",
       " <a href=\"https://www.google.com/maps/place/1410 E. John St., Seattle, WA /\" target=\"_blank\">See On Map</a>,\n",
       " <a href=\"https://www.google.com/maps/place/12318 15th Ave NE, Seattle, WA /\" target=\"_blank\">See On Map</a>,\n",
       " <a href=\"https://www.google.com/maps/place/8704 Greenwood Ave. N., Seattle, WA /\" target=\"_blank\">See On Map</a>,\n",
       " <a href=\"https://www.google.com/maps/place/516 First  Ave. W, Seattle, WA /\" target=\"_blank\">See On Map</a>,\n",
       " <a href=\"https://www.google.com/maps/place/9620 28th Ave. SW, Seattle, WA /\" target=\"_blank\">See On Map</a>,\n",
       " <a href=\"https://www.google.com/maps/place/9262 Rainier Ave S, Seattle, WA /\" target=\"_blank\">See On Map</a>,\n",
       " <a href=\"https://www.google.com/maps/place/2201 East Madison, Seattle, WA /\" target=\"_blank\">See On Map</a>,\n",
       " <a href=\"https://www.google.com/maps/place/3900 S. Othello, Seattle, WA /\" target=\"_blank\">See On Map</a>,\n",
       " <a href=\"https://www.google.com/maps/place/2622 California Avenue SW, Seattle, WA /\" target=\"_blank\">See On Map</a>,\n",
       " <a href=\"https://www.google.com/maps/place/4732 Brooklyn NE, Seattle, WA /\" target=\"_blank\">See On Map</a>,\n",
       " <a href=\"https://www.google.com/maps/place/2100 Queen Anne Ave. N., Seattle, WA /\" target=\"_blank\">See On Map</a>,\n",
       " <a href=\"https://www.google.com/maps/place/7340 35th NE, Seattle, WA /\" target=\"_blank\">See On Map</a>,\n",
       " <a href=\"https://www.google.com/maps/place/3020 NE 45th St, Seattle, WA /\" target=\"_blank\">See On Map</a>,\n",
       " <a href=\"https://www.google.com/maps/place/2800 SW Barton St, Seattle, WA /\" target=\"_blank\">See On Map</a>,\n",
       " <a href=\"https://www.google.com/maps/place/1401 2nd Ave, Seattle, WA /\" target=\"_blank\">See On Map</a>,\n",
       " <a href=\"https://www.google.com/maps/place/4201 SW Morgan St., Seattle, WA /\" target=\"_blank\">See On Map</a>]"
      ]
     },
     "execution_count": 7,
     "metadata": {},
     "output_type": "execute_result"
    }
   ],
   "source": [
    "    soup.find_all(\"a\", href=True, alt=False, target=\"_blank\")"
   ]
  },
  {
   "cell_type": "code",
   "execution_count": 11,
   "metadata": {
    "Collapsed": "false"
   },
   "outputs": [
    {
     "data": {
      "text/plain": [
       "[<h3>FDA Regulations</h3>,\n",
       " <h3>Maximum Allowances</h3>,\n",
       " <h3>WIC Store Locations in Seattle, Washington </h3>,\n",
       " <h3>Albertsons #2410</h3>,\n",
       " <h3>Albertsons #3408</h3>,\n",
       " <h3>Boulevard Park Thriftway</h3>,\n",
       " <h3>Dominic's Red Apple</h3>,\n",
       " <h3>Fred Meyer #122 - Greenwood</h3>,\n",
       " <h3>Fred Meyer #179 - Lake City</h3>,\n",
       " <h3>Fred Meyer #608 - Ballard</h3>,\n",
       " <h3>Hilltop Red Apple Market</h3>,\n",
       " <h3>HT Oaktree Market</h3>,\n",
       " <h3>Kress IGA</h3>,\n",
       " <h3>Maka Mini Market</h3>,\n",
       " <h3>Moga Mini Market</h3>,\n",
       " <h3>QFC #804 - Capitol Hill</h3>,\n",
       " <h3>QFC #805 - Manhattan Village</h3>,\n",
       " <h3>QFC #807 - University Village</h3>,\n",
       " <h3>QFC #811 - Interbay</h3>,\n",
       " <h3>QFC #816 - Richmond Beach</h3>,\n",
       " <h3>QFC #825 - Westwood Village</h3>,\n",
       " <h3>QFC #847 - Harvard Market</h3>,\n",
       " <h3>QFC #849- Rainier Ave</h3>,\n",
       " <h3>QFC #858 - North Seattle</h3>,\n",
       " <h3>QFC #866 - Northgate</h3>,\n",
       " <h3>QFC #869 - Wallingford</h3>,\n",
       " <h3>QFC #872 - Holman Rd</h3>,\n",
       " <h3>QFC #873 - Wedgewood</h3>,\n",
       " <h3>QFC #881 - Mercer Street</h3>,\n",
       " <h3>QFC #883 - West Seattle</h3>,\n",
       " <h3>QFC #887 - Broadway East</h3>,\n",
       " <h3>Saar's Super Saver Foods</h3>,\n",
       " <h3>Safeway #1062 - Jefferson Square</h3>,\n",
       " <h3>Safeway #1143 - Crown Hill</h3>,\n",
       " <h3>Safeway #1477 - Ballard</h3>,\n",
       " <h3>Safeway #1508 - Rainier Valley</h3>,\n",
       " <h3>Safeway #1550 - Roosevelt</h3>,\n",
       " <h3>Safeway #1551 - Capitol Hill</h3>,\n",
       " <h3>Safeway #1586 - Pinehurst</h3>,\n",
       " <h3>Safeway #1845</h3>,\n",
       " <h3>Safeway #1885 - Lower Queen Anne</h3>,\n",
       " <h3>Safeway #1923 - Roxbury</h3>,\n",
       " <h3>Safeway #1965 - Rainier Beach</h3>,\n",
       " <h3>Safeway #1993</h3>,\n",
       " <h3>Safeway #219 - Holly Park</h3>,\n",
       " <h3>Safeway #2932</h3>,\n",
       " <h3>Safeway #3091 - University</h3>,\n",
       " <h3>Safeway #368 - Upper Queen Anne</h3>,\n",
       " <h3>Safeway #423 - Wedgewood</h3>,\n",
       " <h3>Safeway #488 - University Village</h3>,\n",
       " <h3>Target Store T-0637</h3>,\n",
       " <h3>Target Store T-2786</h3>,\n",
       " <h3>West Seattle Thriftway #603</h3>,\n",
       " <h3>Washington Cities</h3>]"
      ]
     },
     "execution_count": 11,
     "metadata": {},
     "output_type": "execute_result"
    }
   ],
   "source": [
    "soup.find_all(\"h3\")"
   ]
  },
  {
   "cell_type": "code",
   "execution_count": 9,
   "metadata": {
    "Collapsed": "false"
   },
   "outputs": [
    {
     "name": "stdout",
     "output_type": "stream",
     "text": [
      "FDA Regulations\n",
      "Maximum Allowances\n",
      "WIC Store Locations in Seattle, Washington \n",
      "Albertsons #2410\n",
      "Albertsons #3408\n",
      "Boulevard Park Thriftway\n",
      "Dominic's Red Apple\n",
      "Fred Meyer #122 - Greenwood\n",
      "Fred Meyer #179 - Lake City\n",
      "Fred Meyer #608 - Ballard\n",
      "Hilltop Red Apple Market\n",
      "HT Oaktree Market\n",
      "Kress IGA\n",
      "Maka Mini Market\n",
      "Moga Mini Market\n",
      "QFC #804 - Capitol Hill\n",
      "QFC #805 - Manhattan Village\n",
      "QFC #807 - University Village\n",
      "QFC #811 - Interbay\n",
      "QFC #816 - Richmond Beach\n",
      "QFC #825 - Westwood Village\n",
      "QFC #847 - Harvard Market\n",
      "QFC #849- Rainier Ave\n",
      "QFC #858 - North Seattle\n",
      "QFC #866 - Northgate\n",
      "QFC #869 - Wallingford\n",
      "QFC #872 - Holman Rd\n",
      "QFC #873 - Wedgewood\n",
      "QFC #881 - Mercer Street\n",
      "QFC #883 - West Seattle\n",
      "QFC #887 - Broadway East\n",
      "Saar's Super Saver Foods\n",
      "Safeway #1062 - Jefferson Square\n",
      "Safeway #1143 - Crown Hill\n",
      "Safeway #1477 - Ballard\n",
      "Safeway #1508 - Rainier Valley\n",
      "Safeway #1550 - Roosevelt\n",
      "Safeway #1551 - Capitol Hill\n",
      "Safeway #1586 - Pinehurst\n",
      "Safeway #1845\n",
      "Safeway #1885 - Lower Queen Anne\n",
      "Safeway #1923 - Roxbury\n",
      "Safeway #1965 - Rainier Beach\n",
      "Safeway #1993\n",
      "Safeway #219 - Holly Park\n",
      "Safeway #2932\n",
      "Safeway #3091 - University\n",
      "Safeway #368 - Upper Queen Anne\n",
      "Safeway #423 - Wedgewood\n",
      "Safeway #488 - University Village\n",
      "Target Store T-0637\n",
      "Target Store T-2786\n",
      "West Seattle Thriftway #603\n",
      "Washington Cities\n"
     ]
    }
   ],
   "source": [
    "for name in soup.find_all(\"h3\"):\n",
    "    print(name.get_text())"
   ]
  },
  {
   "cell_type": "code",
   "execution_count": null,
   "metadata": {
    "Collapsed": "false"
   },
   "outputs": [],
   "source": []
  }
 ],
 "metadata": {
  "kernelspec": {
   "display_name": "Python 3",
   "language": "python",
   "name": "python3"
  },
  "language_info": {
   "codemirror_mode": {
    "name": "ipython",
    "version": 3
   },
   "file_extension": ".py",
   "mimetype": "text/x-python",
   "name": "python",
   "nbconvert_exporter": "python",
   "pygments_lexer": "ipython3",
   "version": "3.7.3"
  }
 },
 "nbformat": 4,
 "nbformat_minor": 4
}
