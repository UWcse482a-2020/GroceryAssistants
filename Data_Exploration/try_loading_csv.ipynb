{
 "cells": [
  {
   "cell_type": "code",
   "execution_count": 1,
   "metadata": {
    "Collapsed": "false"
   },
   "outputs": [],
   "source": [
    "import pandas as pd"
   ]
  },
  {
   "cell_type": "code",
   "execution_count": 2,
   "metadata": {
    "Collapsed": "false"
   },
   "outputs": [],
   "source": [
    "dataframe = pd.read_csv(\"../wic_database.csv\")"
   ]
  },
  {
   "cell_type": "code",
   "execution_count": 3,
   "metadata": {
    "Collapsed": "false"
   },
   "outputs": [
    {
     "data": {
      "text/html": [
       "<div>\n",
       "<style scoped>\n",
       "    .dataframe tbody tr th:only-of-type {\n",
       "        vertical-align: middle;\n",
       "    }\n",
       "\n",
       "    .dataframe tbody tr th {\n",
       "        vertical-align: top;\n",
       "    }\n",
       "\n",
       "    .dataframe thead th {\n",
       "        text-align: right;\n",
       "    }\n",
       "</style>\n",
       "<table border=\"1\" class=\"dataframe\">\n",
       "  <thead>\n",
       "    <tr style=\"text-align: right;\">\n",
       "      <th></th>\n",
       "      <th>Category</th>\n",
       "      <th>Subcategory</th>\n",
       "      <th>Description</th>\n",
       "      <th>UPC/PLU</th>\n",
       "      <th>Size</th>\n",
       "      <th>Unit</th>\n",
       "      <th>Status</th>\n",
       "    </tr>\n",
       "  </thead>\n",
       "  <tbody>\n",
       "    <tr>\n",
       "      <th>0</th>\n",
       "      <td>Bread/Whole Grains</td>\n",
       "      <td>Bread - 100% Whole Wheat</td>\n",
       "      <td>Abiqua Farms 100% Whole Wheat Bread 24 oz</td>\n",
       "      <td>72220110616</td>\n",
       "      <td>24.0</td>\n",
       "      <td>OZ</td>\n",
       "      <td>Active</td>\n",
       "    </tr>\n",
       "    <tr>\n",
       "      <th>1</th>\n",
       "      <td>Bread/Whole Grains</td>\n",
       "      <td>Bread - 100% Whole Wheat</td>\n",
       "      <td>Alaska Grains Baking Co 100% WW Bread 24 oz</td>\n",
       "      <td>72220900675</td>\n",
       "      <td>24.0</td>\n",
       "      <td>OZ</td>\n",
       "      <td>Active</td>\n",
       "    </tr>\n",
       "    <tr>\n",
       "      <th>2</th>\n",
       "      <td>Bread/Whole Grains</td>\n",
       "      <td>Bread - 100% Whole Wheat</td>\n",
       "      <td>Best Yet 100% Whole Wheat Bread 16 oz</td>\n",
       "      <td>42187203485</td>\n",
       "      <td>16.0</td>\n",
       "      <td>OZ</td>\n",
       "      <td>Active</td>\n",
       "    </tr>\n",
       "    <tr>\n",
       "      <th>3</th>\n",
       "      <td>Bread/Whole Grains</td>\n",
       "      <td>Bread - 100% Whole Wheat</td>\n",
       "      <td>Bread Garden 100% Stone Ground WW Bread 24oz</td>\n",
       "      <td>76793300139</td>\n",
       "      <td>24.0</td>\n",
       "      <td>OZ</td>\n",
       "      <td>Active</td>\n",
       "    </tr>\n",
       "    <tr>\n",
       "      <th>4</th>\n",
       "      <td>Bread/Whole Grains</td>\n",
       "      <td>Bread - 100% Whole Wheat</td>\n",
       "      <td>Cascade Pride 100% Stoneground WW Bread 24 oz</td>\n",
       "      <td>17072005260</td>\n",
       "      <td>24.0</td>\n",
       "      <td>OZ</td>\n",
       "      <td>Active</td>\n",
       "    </tr>\n",
       "  </tbody>\n",
       "</table>\n",
       "</div>"
      ],
      "text/plain": [
       "             Category               Subcategory  \\\n",
       "0  Bread/Whole Grains  Bread - 100% Whole Wheat   \n",
       "1  Bread/Whole Grains  Bread - 100% Whole Wheat   \n",
       "2  Bread/Whole Grains  Bread - 100% Whole Wheat   \n",
       "3  Bread/Whole Grains  Bread - 100% Whole Wheat   \n",
       "4  Bread/Whole Grains  Bread - 100% Whole Wheat   \n",
       "\n",
       "                                     Description      UPC/PLU  Size Unit  \\\n",
       "0      Abiqua Farms 100% Whole Wheat Bread 24 oz  72220110616  24.0   OZ   \n",
       "1    Alaska Grains Baking Co 100% WW Bread 24 oz  72220900675  24.0   OZ   \n",
       "2          Best Yet 100% Whole Wheat Bread 16 oz  42187203485  16.0   OZ   \n",
       "3   Bread Garden 100% Stone Ground WW Bread 24oz  76793300139  24.0   OZ   \n",
       "4  Cascade Pride 100% Stoneground WW Bread 24 oz  17072005260  24.0   OZ   \n",
       "\n",
       "   Status  \n",
       "0  Active  \n",
       "1  Active  \n",
       "2  Active  \n",
       "3  Active  \n",
       "4  Active  "
      ]
     },
     "execution_count": 3,
     "metadata": {},
     "output_type": "execute_result"
    }
   ],
   "source": [
    "dataframe.head()"
   ]
  },
  {
   "cell_type": "code",
   "execution_count": 4,
   "metadata": {
    "Collapsed": "false"
   },
   "outputs": [
    {
     "data": {
      "text/plain": [
       "array(['Bread/Whole Grains', 'Breakfast Cereal', 'Cheese or Tofu', 'Eggs',\n",
       "       'Exempt Infant Formula EXF', 'Fish', 'Fruit Vegetables Cash Value',\n",
       "       'Infant Cereal', 'Infant Formula IF', 'Infant Fruits Vegetables',\n",
       "       'Infant Meats', 'Juice - 46/48 oz', 'Juice - 64 oz', 'Legumes',\n",
       "       'Milk - Fat Reduced', 'Milk - whole', 'WIC Eligible Nutritionals',\n",
       "       'Yogurt'], dtype=object)"
      ]
     },
     "execution_count": 4,
     "metadata": {},
     "output_type": "execute_result"
    }
   ],
   "source": [
    "dataframe.Category.unique()"
   ]
  },
  {
   "cell_type": "code",
   "execution_count": 7,
   "metadata": {
    "Collapsed": "false"
   },
   "outputs": [
    {
     "data": {
      "text/html": [
       "<div>\n",
       "<style scoped>\n",
       "    .dataframe tbody tr th:only-of-type {\n",
       "        vertical-align: middle;\n",
       "    }\n",
       "\n",
       "    .dataframe tbody tr th {\n",
       "        vertical-align: top;\n",
       "    }\n",
       "\n",
       "    .dataframe thead th {\n",
       "        text-align: right;\n",
       "    }\n",
       "</style>\n",
       "<table border=\"1\" class=\"dataframe\">\n",
       "  <thead>\n",
       "    <tr style=\"text-align: right;\">\n",
       "      <th></th>\n",
       "      <th>Category</th>\n",
       "      <th>Subcategory</th>\n",
       "      <th>Description</th>\n",
       "      <th>UPC/PLU</th>\n",
       "      <th>Size</th>\n",
       "      <th>Unit</th>\n",
       "      <th>Status</th>\n",
       "    </tr>\n",
       "  </thead>\n",
       "  <tbody>\n",
       "    <tr>\n",
       "      <th>2</th>\n",
       "      <td>Bread/Whole Grains</td>\n",
       "      <td>Bread - 100% Whole Wheat</td>\n",
       "      <td>Best Yet 100% Whole Wheat Bread 16 oz</td>\n",
       "      <td>42187203485</td>\n",
       "      <td>16.0</td>\n",
       "      <td>OZ</td>\n",
       "      <td>Active</td>\n",
       "    </tr>\n",
       "  </tbody>\n",
       "</table>\n",
       "</div>"
      ],
      "text/plain": [
       "             Category               Subcategory  \\\n",
       "2  Bread/Whole Grains  Bread - 100% Whole Wheat   \n",
       "\n",
       "                             Description      UPC/PLU  Size Unit  Status  \n",
       "2  Best Yet 100% Whole Wheat Bread 16 oz  42187203485  16.0   OZ  Active  "
      ]
     },
     "execution_count": 7,
     "metadata": {},
     "output_type": "execute_result"
    }
   ],
   "source": [
    "dataframe[dataframe[\"UPC/PLU\"] == 42187203485]"
   ]
  },
  {
   "cell_type": "code",
   "execution_count": null,
   "metadata": {
    "Collapsed": "false"
   },
   "outputs": [],
   "source": []
  },
  {
   "cell_type": "code",
   "execution_count": 25,
   "metadata": {
    "Collapsed": "false"
   },
   "outputs": [],
   "source": [
    "for desc in dataframe.iterrows():\n",
    "    info = desc[1]\n",
    "    if \"Waffle\" in info[\"Description\"]:\n",
    "        print(info[\"Description\"])  "
   ]
  },
  {
   "cell_type": "code",
   "execution_count": 26,
   "metadata": {
    "Collapsed": "false"
   },
   "outputs": [
    {
     "data": {
      "text/plain": [
       "(7066, 7)"
      ]
     },
     "execution_count": 26,
     "metadata": {},
     "output_type": "execute_result"
    }
   ],
   "source": [
    "dataframe.shape"
   ]
  },
  {
   "cell_type": "code",
   "execution_count": 34,
   "metadata": {
    "Collapsed": "false"
   },
   "outputs": [
    {
     "data": {
      "text/plain": [
       "array(['Bread/Whole Grains', 'Breakfast Cereal', 'Cheese or Tofu', 'Eggs',\n",
       "       'Exempt Infant Formula EXF', 'Fish', 'Fruit Vegetables Cash Value',\n",
       "       'Infant Cereal', 'Infant Formula IF', 'Infant Fruits Vegetables',\n",
       "       'Infant Meats', 'Juice - 46/48 oz', 'Juice - 64 oz', 'Legumes',\n",
       "       'Milk - Fat Reduced', 'Milk - whole', 'WIC Eligible Nutritionals',\n",
       "       'Yogurt'], dtype=object)"
      ]
     },
     "execution_count": 34,
     "metadata": {},
     "output_type": "execute_result"
    }
   ],
   "source": [
    "dataframe.Category.unique()"
   ]
  },
  {
   "cell_type": "code",
   "execution_count": 38,
   "metadata": {
    "Collapsed": "false"
   },
   "outputs": [
    {
     "data": {
      "text/plain": [
       "array(['Baby Cereal'], dtype=object)"
      ]
     },
     "execution_count": 38,
     "metadata": {},
     "output_type": "execute_result"
    }
   ],
   "source": [
    "dataframe[dataframe[\"Category\"] == \"Infant Cereal\"].Subcategory.unique()"
   ]
  },
  {
   "cell_type": "code",
   "execution_count": 41,
   "metadata": {
    "Collapsed": "false"
   },
   "outputs": [
    {
     "data": {
      "text/html": [
       "<div>\n",
       "<style scoped>\n",
       "    .dataframe tbody tr th:only-of-type {\n",
       "        vertical-align: middle;\n",
       "    }\n",
       "\n",
       "    .dataframe tbody tr th {\n",
       "        vertical-align: top;\n",
       "    }\n",
       "\n",
       "    .dataframe thead th {\n",
       "        text-align: right;\n",
       "    }\n",
       "</style>\n",
       "<table border=\"1\" class=\"dataframe\">\n",
       "  <thead>\n",
       "    <tr style=\"text-align: right;\">\n",
       "      <th></th>\n",
       "      <th>Category</th>\n",
       "      <th>Subcategory</th>\n",
       "      <th>Description</th>\n",
       "      <th>UPC/PLU</th>\n",
       "      <th>Size</th>\n",
       "      <th>Unit</th>\n",
       "      <th>Status</th>\n",
       "    </tr>\n",
       "  </thead>\n",
       "  <tbody>\n",
       "    <tr>\n",
       "      <th>5311</th>\n",
       "      <td>Infant Formula IF</td>\n",
       "      <td>Similac Advance Concentrate 13 oz</td>\n",
       "      <td>Similac Advance Concentrate 13 fl oz</td>\n",
       "      <td>70074569741</td>\n",
       "      <td>1.0</td>\n",
       "      <td>CAN</td>\n",
       "      <td>Active</td>\n",
       "    </tr>\n",
       "    <tr>\n",
       "      <th>5312</th>\n",
       "      <td>Infant Formula IF</td>\n",
       "      <td>Similac Advance Powder 12.4 oz</td>\n",
       "      <td>Similac Advance Powder 12.4 OZ</td>\n",
       "      <td>70074559582</td>\n",
       "      <td>1.0</td>\n",
       "      <td>CAN</td>\n",
       "      <td>Active</td>\n",
       "    </tr>\n",
       "    <tr>\n",
       "      <th>5313</th>\n",
       "      <td>Infant Formula IF</td>\n",
       "      <td>Similac Advance RTF 32 oz</td>\n",
       "      <td>Similac Advance RTF quart</td>\n",
       "      <td>70074533643</td>\n",
       "      <td>1.0</td>\n",
       "      <td>CAN</td>\n",
       "      <td>Active</td>\n",
       "    </tr>\n",
       "    <tr>\n",
       "      <th>5314</th>\n",
       "      <td>Infant Formula IF</td>\n",
       "      <td>Similac Sensitive Powder 12 oz</td>\n",
       "      <td>Similac Sensitive Powder 12oz</td>\n",
       "      <td>70074575414</td>\n",
       "      <td>1.0</td>\n",
       "      <td>CAN</td>\n",
       "      <td>Active</td>\n",
       "    </tr>\n",
       "    <tr>\n",
       "      <th>5315</th>\n",
       "      <td>Infant Formula IF</td>\n",
       "      <td>Similac Sensitive RTF 32 oz</td>\n",
       "      <td>Similac Sensitive RTF quart</td>\n",
       "      <td>70074575346</td>\n",
       "      <td>1.0</td>\n",
       "      <td>CAN</td>\n",
       "      <td>Active</td>\n",
       "    </tr>\n",
       "    <tr>\n",
       "      <th>5316</th>\n",
       "      <td>Infant Formula IF</td>\n",
       "      <td>Similac Soy Isomil Concentrate 13 oz</td>\n",
       "      <td>Similac Soy Isomil Liquid Concentrate 13oz</td>\n",
       "      <td>70074569765</td>\n",
       "      <td>1.0</td>\n",
       "      <td>CAN</td>\n",
       "      <td>Active</td>\n",
       "    </tr>\n",
       "    <tr>\n",
       "      <th>5317</th>\n",
       "      <td>Infant Formula IF</td>\n",
       "      <td>Similac Soy Isomil Powder 12.4 oz</td>\n",
       "      <td>Similac Soy Isomil Powder 12.4oz</td>\n",
       "      <td>70074559643</td>\n",
       "      <td>1.0</td>\n",
       "      <td>CAN</td>\n",
       "      <td>Active</td>\n",
       "    </tr>\n",
       "    <tr>\n",
       "      <th>5318</th>\n",
       "      <td>Infant Formula IF</td>\n",
       "      <td>Similac Soy Isomil RTF 32 oz</td>\n",
       "      <td>Similac Soy Isomil RTF 32oz</td>\n",
       "      <td>70074559681</td>\n",
       "      <td>1.0</td>\n",
       "      <td>CAN</td>\n",
       "      <td>Active</td>\n",
       "    </tr>\n",
       "    <tr>\n",
       "      <th>5319</th>\n",
       "      <td>Infant Formula IF</td>\n",
       "      <td>Similac Spit Up Powder 12 oz</td>\n",
       "      <td>Similac For Spit Up Powder 12oz</td>\n",
       "      <td>70074509600</td>\n",
       "      <td>1.0</td>\n",
       "      <td>CAN</td>\n",
       "      <td>Active</td>\n",
       "    </tr>\n",
       "    <tr>\n",
       "      <th>5320</th>\n",
       "      <td>Infant Formula IF</td>\n",
       "      <td>Similac Total Comfort Powder 12 oz</td>\n",
       "      <td>Similac Total Comfort Powder 12 oz</td>\n",
       "      <td>70074626000</td>\n",
       "      <td>1.0</td>\n",
       "      <td>CAN</td>\n",
       "      <td>Active</td>\n",
       "    </tr>\n",
       "  </tbody>\n",
       "</table>\n",
       "</div>"
      ],
      "text/plain": [
       "               Category                           Subcategory  \\\n",
       "5311  Infant Formula IF     Similac Advance Concentrate 13 oz   \n",
       "5312  Infant Formula IF        Similac Advance Powder 12.4 oz   \n",
       "5313  Infant Formula IF             Similac Advance RTF 32 oz   \n",
       "5314  Infant Formula IF        Similac Sensitive Powder 12 oz   \n",
       "5315  Infant Formula IF           Similac Sensitive RTF 32 oz   \n",
       "5316  Infant Formula IF  Similac Soy Isomil Concentrate 13 oz   \n",
       "5317  Infant Formula IF     Similac Soy Isomil Powder 12.4 oz   \n",
       "5318  Infant Formula IF          Similac Soy Isomil RTF 32 oz   \n",
       "5319  Infant Formula IF          Similac Spit Up Powder 12 oz   \n",
       "5320  Infant Formula IF    Similac Total Comfort Powder 12 oz   \n",
       "\n",
       "                                     Description      UPC/PLU  Size Unit  \\\n",
       "5311        Similac Advance Concentrate 13 fl oz  70074569741   1.0  CAN   \n",
       "5312              Similac Advance Powder 12.4 OZ  70074559582   1.0  CAN   \n",
       "5313                   Similac Advance RTF quart  70074533643   1.0  CAN   \n",
       "5314               Similac Sensitive Powder 12oz  70074575414   1.0  CAN   \n",
       "5315                 Similac Sensitive RTF quart  70074575346   1.0  CAN   \n",
       "5316  Similac Soy Isomil Liquid Concentrate 13oz  70074569765   1.0  CAN   \n",
       "5317            Similac Soy Isomil Powder 12.4oz  70074559643   1.0  CAN   \n",
       "5318                 Similac Soy Isomil RTF 32oz  70074559681   1.0  CAN   \n",
       "5319             Similac For Spit Up Powder 12oz  70074509600   1.0  CAN   \n",
       "5320          Similac Total Comfort Powder 12 oz  70074626000   1.0  CAN   \n",
       "\n",
       "      Status  \n",
       "5311  Active  \n",
       "5312  Active  \n",
       "5313  Active  \n",
       "5314  Active  \n",
       "5315  Active  \n",
       "5316  Active  \n",
       "5317  Active  \n",
       "5318  Active  \n",
       "5319  Active  \n",
       "5320  Active  "
      ]
     },
     "execution_count": 41,
     "metadata": {},
     "output_type": "execute_result"
    }
   ],
   "source": [
    "dataframe[dataframe[\"Category\"] == \"Infant Formula IF\"]"
   ]
  },
  {
   "cell_type": "code",
   "execution_count": 43,
   "metadata": {
    "Collapsed": "false"
   },
   "outputs": [
    {
     "data": {
      "text/plain": [
       "array(['Baby Food Fruits', 'Baby Food Fruits or Vegetable Combinations',\n",
       "       'Baby Food Vegetables'], dtype=object)"
      ]
     },
     "execution_count": 43,
     "metadata": {},
     "output_type": "execute_result"
    }
   ],
   "source": [
    "dataframe[dataframe[\"Category\"] == \"Infant Fruits Vegetables\"].Subcategory.unique()"
   ]
  },
  {
   "cell_type": "code",
   "execution_count": 44,
   "metadata": {
    "Collapsed": "false"
   },
   "outputs": [
    {
     "data": {
      "text/plain": [
       "array(['Baby Food Meat'], dtype=object)"
      ]
     },
     "execution_count": 44,
     "metadata": {},
     "output_type": "execute_result"
    }
   ],
   "source": [
    "dataframe[dataframe[\"Category\"] == \"Infant Meats\"].Subcategory.unique()"
   ]
  },
  {
   "cell_type": "code",
   "execution_count": 45,
   "metadata": {
    "Collapsed": "false"
   },
   "outputs": [
    {
     "data": {
      "text/plain": [
       "array(['Non Whole Grain Cereal', 'Whole Grain Cereal'], dtype=object)"
      ]
     },
     "execution_count": 45,
     "metadata": {},
     "output_type": "execute_result"
    }
   ],
   "source": [
    "dataframe[dataframe[\"Category\"] == \"Breakfast Cereal\"].Subcategory.unique()"
   ]
  },
  {
   "cell_type": "code",
   "execution_count": null,
   "metadata": {
    "Collapsed": "false"
   },
   "outputs": [],
   "source": []
  }
 ],
 "metadata": {
  "kernelspec": {
   "display_name": "Python 3",
   "language": "python",
   "name": "python3"
  },
  "language_info": {
   "codemirror_mode": {
    "name": "ipython",
    "version": 3
   },
   "file_extension": ".py",
   "mimetype": "text/x-python",
   "name": "python",
   "nbconvert_exporter": "python",
   "pygments_lexer": "ipython3",
   "version": "3.7.3"
  }
 },
 "nbformat": 4,
 "nbformat_minor": 4
}
